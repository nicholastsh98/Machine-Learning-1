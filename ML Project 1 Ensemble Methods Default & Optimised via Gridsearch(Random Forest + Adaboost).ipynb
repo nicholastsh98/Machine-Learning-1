{
 "cells": [
  {
   "cell_type": "code",
   "execution_count": 36,
   "id": "8d43520e",
   "metadata": {},
   "outputs": [],
   "source": [
    "import os\n",
    "import numpy as np\n",
    "import pandas as pd\n",
    "import matplotlib.pyplot as plt\n",
    "import seaborn as sns\n",
    "%matplotlib inline\n",
    "from sklearn.model_selection import train_test_split\n",
    "from sklearn.model_selection import StratifiedKFold as sk\n",
    "from sklearn.metrics import confusion_matrix\n",
    "from sklearn.metrics import classification_report\n",
    "from sklearn.metrics import accuracy_score as acs\n",
    "from sklearn import datasets\n",
    "from matplotlib.colors import ListedColormap\n",
    "import matplotlib.pyplot as plt\n",
    "from sklearn import preprocessing\n",
    "\n",
    "from sklearn.ensemble import RandomForestClassifier as RFC\n",
    "from sklearn.svm import SVC\n",
    "from sklearn.model_selection import GridSearchCV\n",
    "from random import randint\n",
    "from sklearn.tree import DecisionTreeClassifier as dt\n",
    "np.set_printoptions(suppress=True)\n",
    "from sklearn.ensemble import AdaBoostClassifier\n",
    "import time"
   ]
  },
  {
   "cell_type": "code",
   "execution_count": 43,
   "id": "b19a32cc",
   "metadata": {},
   "outputs": [],
   "source": [
    "# Load libraries\n",
    "import os\n",
    "import numpy as np\n",
    "import pandas as pd\n",
    "import seaborn as sns\n",
    "import matplotlib.pyplot as plt\n",
    "from sklearn.ensemble import RandomForestClassifier\n",
    "from sklearn.svm import SVC\n",
    "from sklearn.tree import DecisionTreeClassifier as dt\n",
    "from sklearn.model_selection import train_test_split\n",
    "from sklearn.model_selection import StratifiedKFold as sk\n",
    "from sklearn.preprocessing import StandardScaler\n",
    "from sklearn.metrics import classification_report\n",
    "from sklearn.metrics import confusion_matrix\n",
    "from sklearn import datasets\n",
    "from sklearn.metrics import accuracy_score as acs\n",
    "from sklearn.feature_selection import SelectFromModel\n",
    "from sklearn.ensemble import AdaBoostClassifier\n",
    "from matplotlib.colors import ListedColormap\n",
    "from sklearn import preprocessing\n",
    "import matplotlib.pyplot as plt\n",
    "from sklearn.preprocessing import StandardScaler\n",
    "from sklearn.preprocessing import scale\n",
    "\n",
    "def plot_decision_regions(X, y, classifier, test_idx=None, resolution=0.02):\n",
    "\n",
    "    # setup marker generator and color map\n",
    "    markers = ('s', 'x', 'o', '^', 'v')\n",
    "    colors = ('red', 'blue', 'lightgreen', 'gray', 'cyan')\n",
    "    cmap = ListedColormap(colors[:len(np.unique(y))])\n",
    "\n",
    "    # plot the decision surface\n",
    "    x1_min, x1_max = X[:, 0].min() - 1, X[:, 0].max() + 1\n",
    "    x2_min, x2_max = X[:, 1].min() - 1, X[:, 1].max() + 1\n",
    "    xx1, xx2 = np.meshgrid(np.arange(x1_min, x1_max, resolution),\n",
    "                           np.arange(x2_min, x2_max, resolution))\n",
    "    Z = classifier.predict(np.array([xx1.ravel(), xx2.ravel()]).T)\n",
    "    Z = Z.reshape(xx1.shape)\n",
    "    plt.contourf(xx1, xx2, Z, alpha=0.4, cmap=cmap)\n",
    "    plt.xlim(xx1.min(), xx1.max())\n",
    "    plt.ylim(xx2.min(), xx2.max())\n",
    "\n",
    "    for idx, cl in enumerate(np.unique(y)):\n",
    "        plt.scatter(x=X[y == cl, 0], y=X[y == cl, 1],\n",
    "                    alpha=0.8, c=cmap(idx),\n",
    "                    marker=markers[idx], label=cl)"
   ]
  },
  {
   "cell_type": "code",
   "execution_count": 62,
   "id": "326b012d",
   "metadata": {},
   "outputs": [],
   "source": [
    "data = pd.read_csv('Proj1ReorderedRound.csv')\n",
    "X = data.drop(['Condition'], axis = 1)\n",
    "Y = data['Condition']\n",
    "\n",
    "X = pd.DataFrame(X)\n",
    "Y = pd.DataFrame(Y)\n",
    "\n",
    "YClass = ['Condition3','Condtion4','Normal1']    #default target names. only useful in visualisation"
   ]
  },
  {
   "cell_type": "code",
   "execution_count": 3,
   "id": "6003a77b",
   "metadata": {},
   "outputs": [],
   "source": [
    "k = 4\n",
    "\n",
    "cv = sk(n_splits=k, shuffle=True, random_state=0)"
   ]
  },
  {
   "cell_type": "code",
   "execution_count": 4,
   "id": "0042cde7",
   "metadata": {
    "scrolled": false
   },
   "outputs": [
    {
     "name": "stdout",
     "output_type": "stream",
     "text": [
      "\n",
      "\n",
      "Fold Group  1\n"
     ]
    },
    {
     "data": {
      "image/png": "[encoded data removed]",
      "text/plain": [
       "<Figure size 288x288 with 2 Axes>"
      ]
     },
     "metadata": {
      "needs_background": "light"
     },
     "output_type": "display_data"
    },
    {
     "name": "stdout",
     "output_type": "stream",
     "text": [
      "              precision    recall  f1-score   support\n",
      "\n",
      "  Condition3       0.86      0.60      0.71        10\n",
      "  Condition4       1.00      1.00      1.00        10\n",
      "     Normal1       0.75      0.92      0.83        13\n",
      "\n",
      "    accuracy                           0.85        33\n",
      "   macro avg       0.87      0.84      0.84        33\n",
      "weighted avg       0.86      0.85      0.84        33\n",
      "\n",
      "\n",
      "\n",
      "Fold Group  2\n"
     ]
    },
    {
     "data": {
      "image/png": "[encoded data removed]",
      "text/plain": [
       "<Figure size 288x288 with 2 Axes>"
      ]
     },
     "metadata": {
      "needs_background": "light"
     },
     "output_type": "display_data"
    },
    {
     "name": "stdout",
     "output_type": "stream",
     "text": [
      "              precision    recall  f1-score   support\n",
      "\n",
      "  Condition3       1.00      1.00      1.00        10\n",
      "  Condition4       1.00      1.00      1.00        10\n",
      "     Normal1       1.00      1.00      1.00        13\n",
      "\n",
      "    accuracy                           1.00        33\n",
      "   macro avg       1.00      1.00      1.00        33\n",
      "weighted avg       1.00      1.00      1.00        33\n",
      "\n",
      "\n",
      "\n",
      "Fold Group  3\n"
     ]
    },
    {
     "data": {
      "image/png": "[encoded data removed]",
      "text/plain": [
       "<Figure size 288x288 with 2 Axes>"
      ]
     },
     "metadata": {
      "needs_background": "light"
     },
     "output_type": "display_data"
    },
    {
     "name": "stdout",
     "output_type": "stream",
     "text": [
      "              precision    recall  f1-score   support\n",
      "\n",
      "  Condition3       0.91      1.00      0.95        10\n",
      "  Condition4       1.00      1.00      1.00        11\n",
      "     Normal1       1.00      0.92      0.96        12\n",
      "\n",
      "    accuracy                           0.97        33\n",
      "   macro avg       0.97      0.97      0.97        33\n",
      "weighted avg       0.97      0.97      0.97        33\n",
      "\n",
      "\n",
      "\n",
      "Fold Group  4\n"
     ]
    },
    {
     "data": {
      "image/png": "[encoded data removed]",
      "text/plain": [
       "<Figure size 288x288 with 2 Axes>"
      ]
     },
     "metadata": {
      "needs_background": "light"
     },
     "output_type": "display_data"
    },
    {
     "name": "stdout",
     "output_type": "stream",
     "text": [
      "              precision    recall  f1-score   support\n",
      "\n",
      "  Condition3       1.00      1.00      1.00        10\n",
      "  Condition4       0.91      1.00      0.95        10\n",
      "     Normal1       1.00      0.92      0.96        12\n",
      "\n",
      "    accuracy                           0.97        32\n",
      "   macro avg       0.97      0.97      0.97        32\n",
      "weighted avg       0.97      0.97      0.97        32\n",
      "\n",
      "\n",
      "RF\n",
      "\n",
      "average C3 Precision =  0.9416\n",
      "average C4 Precision =  0.9773\n",
      "average N1 Precision =  0.9375\n",
      "average Accuracy =  0.9467\n"
     ]
    }
   ],
   "source": [
    "#default RF\n",
    "model = RFC(random_state = 0)\n",
    "n = 1\n",
    "\n",
    "C3PL = []\n",
    "C4PL = []\n",
    "N1PL = []\n",
    "\n",
    "AL = []\n",
    "\n",
    "for trainIndex, testIndex in cv.split(X, Y):\n",
    "    print('\\n\\nFold Group ', n)\n",
    "    n += 1\n",
    "    \n",
    "    train_X = X.iloc[trainIndex]\n",
    "    test_X = X.iloc[testIndex]\n",
    "    train_Y = Y.iloc[trainIndex]\n",
    "    test_Y = Y.iloc[testIndex]\n",
    "    \n",
    "    model.fit(train_X, train_Y.values.ravel())\n",
    "    pred_Y = model.predict(test_X)\n",
    "    \n",
    "    CM = confusion_matrix(test_Y, pred_Y)\n",
    "    \n",
    "    fig, ax = plt.subplots(figsize=(4,4))\n",
    "    ax = sns.heatmap(CM, annot=True, fmt='d', cmap='Blues', xticklabels = YClass , yticklabels = YClass)\n",
    "    plt.tight_layout()\n",
    "    plt.show(ax)\n",
    "\n",
    "    print(classification_report(test_Y,pred_Y))\n",
    "    \n",
    "    C3Pre = CM[0,0] / (CM[0,0] + CM[1,0] + CM[2,0])\n",
    "    C3PL.append(C3Pre)\n",
    "    C4Pre = CM[1,1] / (CM[0,1] + CM[1,1] + CM[2,1])\n",
    "    C4PL.append(C4Pre)\n",
    "    N1Pre = CM[2,2] / (CM[0,2] + CM[1,2] + CM[2,2])\n",
    "    N1PL.append(N1Pre)\n",
    "    \n",
    "    Acc = acs(test_Y,pred_Y)\n",
    "    AL.append(Acc)\n",
    "    \n",
    "print('\\nRF\\n')\n",
    "\n",
    "print('average C3 Precision = ', np.mean(C3PL).round(4))\n",
    "print('average C4 Precision = ' , np.mean(C4PL).round(4))\n",
    "print('average N1 Precision = ', np.mean(N1PL).round(4))\n",
    "print('average Accuracy = ', np.mean(AL).round(4))"
   ]
  },
  {
   "cell_type": "code",
   "execution_count": 5,
   "id": "2580e8c2",
   "metadata": {},
   "outputs": [
    {
     "data": {
      "text/plain": [
       "[40.0,\n",
       " 41,\n",
       " 42,\n",
       " 43,\n",
       " 44,\n",
       " 45,\n",
       " 46,\n",
       " 47,\n",
       " 48,\n",
       " 49,\n",
       " 50,\n",
       " 51,\n",
       " 52,\n",
       " 53,\n",
       " 54,\n",
       " 55,\n",
       " 56,\n",
       " 57,\n",
       " 58,\n",
       " 59,\n",
       " 60]"
      ]
     },
     "execution_count": 5,
     "metadata": {},
     "output_type": "execute_result"
    }
   ],
   "source": [
    "#prepare for optimization\n",
    "nbase = 50\n",
    "\n",
    "nRange = []\n",
    "stage =  1\n",
    "\n",
    "for i in range(-10,11):\n",
    "    x = np.round(nbase + i*(10**(1-stage)),stage)\n",
    "    nRange.append(x)\n",
    "    \n",
    "nRange[0] = np.floor(nRange[0] + 10**(-stage))\n",
    "\n",
    "nRange"
   ]
  },
  {
   "cell_type": "code",
   "execution_count": 6,
   "id": "d39af185",
   "metadata": {},
   "outputs": [
    {
     "name": "stdout",
     "output_type": "stream",
     "text": [
      "Fitting 4 folds for each of 20 candidates, totalling 80 fits\n",
      "Fitting 4 folds for each of 20 candidates, totalling 80 fits\n"
     ]
    },
    {
     "data": {
      "text/html": [
       "<div>\n",
       "<style scoped>\n",
       "    .dataframe tbody tr th:only-of-type {\n",
       "        vertical-align: middle;\n",
       "    }\n",
       "\n",
       "    .dataframe tbody tr th {\n",
       "        vertical-align: top;\n",
       "    }\n",
       "\n",
       "    .dataframe thead th {\n",
       "        text-align: right;\n",
       "    }\n",
       "</style>\n",
       "<table border=\"1\" class=\"dataframe\">\n",
       "  <thead>\n",
       "    <tr style=\"text-align: right;\">\n",
       "      <th></th>\n",
       "      <th>n</th>\n",
       "    </tr>\n",
       "  </thead>\n",
       "  <tbody>\n",
       "    <tr>\n",
       "      <th>0</th>\n",
       "      <td>80</td>\n",
       "    </tr>\n",
       "    <tr>\n",
       "      <th>1</th>\n",
       "      <td>74</td>\n",
       "    </tr>\n",
       "  </tbody>\n",
       "</table>\n",
       "</div>"
      ],
      "text/plain": [
       "    n\n",
       "0  80\n",
       "1  74"
      ]
     },
     "execution_count": 6,
     "metadata": {},
     "output_type": "execute_result"
    }
   ],
   "source": [
    "nbase = 100\n",
    "nbaseDF = pd.DataFrame(columns = ['n'])\n",
    "index = 0\n",
    "\n",
    "for stage in range(2):\n",
    "    \n",
    "    Range = []\n",
    "    for i in range(-10,11):\n",
    "        if (i != -10):\n",
    "            x = np.round(nbase + i*(10**(1-stage)),stage)\n",
    "            Range.append(x)\n",
    "    \n",
    "    param_grid = {'n_estimators': Range}\n",
    "    grid = GridSearchCV(RFC(random_state = 0), param_grid, cv = cv, verbose = 1)\n",
    "    grid.fit(X,Y.values.ravel())\n",
    "    \n",
    "    nbase = grid.best_params_['n_estimators']\n",
    "    \n",
    "    nbaseDF.loc[index] = nbase\n",
    "    index += 1\n",
    "    \n",
    "nbest = nbaseDF.iloc[-1].values[0]\n",
    "nbaseDF"
   ]
  },
  {
   "cell_type": "code",
   "execution_count": 7,
   "id": "88ca6ced",
   "metadata": {},
   "outputs": [
    {
     "data": {
      "text/plain": [
       "74"
      ]
     },
     "execution_count": 7,
     "metadata": {},
     "output_type": "execute_result"
    }
   ],
   "source": [
    "nbest #print best n_estimator value"
   ]
  },
  {
   "cell_type": "code",
   "execution_count": 8,
   "id": "9132bd2c",
   "metadata": {},
   "outputs": [
    {
     "name": "stdout",
     "output_type": "stream",
     "text": [
      "\n",
      "\n",
      "Fold Group  1\n"
     ]
    },
    {
     "data": {
      "image/png": "[encoded data removed]",
      "text/plain": [
       "<Figure size 288x288 with 2 Axes>"
      ]
     },
     "metadata": {
      "needs_background": "light"
     },
     "output_type": "display_data"
    },
    {
     "name": "stdout",
     "output_type": "stream",
     "text": [
      "              precision    recall  f1-score   support\n",
      "\n",
      "  Condition3       0.88      0.70      0.78        10\n",
      "  Condition4       1.00      1.00      1.00        10\n",
      "     Normal1       0.80      0.92      0.86        13\n",
      "\n",
      "    accuracy                           0.88        33\n",
      "   macro avg       0.89      0.87      0.88        33\n",
      "weighted avg       0.88      0.88      0.88        33\n",
      "\n",
      "\n",
      "\n",
      "Fold Group  2\n"
     ]
    },
    {
     "data": {
      "image/png": "[encoded data removed]",
      "text/plain": [
       "<Figure size 288x288 with 2 Axes>"
      ]
     },
     "metadata": {
      "needs_background": "light"
     },
     "output_type": "display_data"
    },
    {
     "name": "stdout",
     "output_type": "stream",
     "text": [
      "              precision    recall  f1-score   support\n",
      "\n",
      "  Condition3       1.00      1.00      1.00        10\n",
      "  Condition4       1.00      1.00      1.00        10\n",
      "     Normal1       1.00      1.00      1.00        13\n",
      "\n",
      "    accuracy                           1.00        33\n",
      "   macro avg       1.00      1.00      1.00        33\n",
      "weighted avg       1.00      1.00      1.00        33\n",
      "\n",
      "\n",
      "\n",
      "Fold Group  3\n"
     ]
    },
    {
     "data": {
      "image/png": "[encoded data removed]",
      "text/plain": [
       "<Figure size 288x288 with 2 Axes>"
      ]
     },
     "metadata": {
      "needs_background": "light"
     },
     "output_type": "display_data"
    },
    {
     "name": "stdout",
     "output_type": "stream",
     "text": [
      "              precision    recall  f1-score   support\n",
      "\n",
      "  Condition3       0.91      1.00      0.95        10\n",
      "  Condition4       1.00      1.00      1.00        11\n",
      "     Normal1       1.00      0.92      0.96        12\n",
      "\n",
      "    accuracy                           0.97        33\n",
      "   macro avg       0.97      0.97      0.97        33\n",
      "weighted avg       0.97      0.97      0.97        33\n",
      "\n",
      "\n",
      "\n",
      "Fold Group  4\n"
     ]
    },
    {
     "data": {
      "image/png": "[encoded data removed]",
      "text/plain": [
       "<Figure size 288x288 with 2 Axes>"
      ]
     },
     "metadata": {
      "needs_background": "light"
     },
     "output_type": "display_data"
    },
    {
     "name": "stdout",
     "output_type": "stream",
     "text": [
      "              precision    recall  f1-score   support\n",
      "\n",
      "  Condition3       1.00      1.00      1.00        10\n",
      "  Condition4       0.91      1.00      0.95        10\n",
      "     Normal1       1.00      0.92      0.96        12\n",
      "\n",
      "    accuracy                           0.97        32\n",
      "   macro avg       0.97      0.97      0.97        32\n",
      "weighted avg       0.97      0.97      0.97        32\n",
      "\n",
      "\n",
      "RF\n",
      "\n",
      "n_estimators =  74\n",
      "average C3 Precision =  0.946\n",
      "average C4 Precision =  0.9773\n",
      "average N1 Precision =  0.95\n",
      "average Accuracy =  0.9543\n"
     ]
    }
   ],
   "source": [
    "#optmisation with only n_estimator\n",
    "model = RFC(random_state = 0, n_estimators = nbest)\n",
    "n = 1\n",
    "\n",
    "C3PL = []\n",
    "C4PL = []\n",
    "N1PL = []\n",
    "\n",
    "AL = []\n",
    "\n",
    "for trainIndex, testIndex in cv.split(X, Y):\n",
    "    print('\\n\\nFold Group ', n)\n",
    "    n += 1\n",
    "    \n",
    "    train_X = X.iloc[trainIndex]\n",
    "    test_X = X.iloc[testIndex]\n",
    "    train_Y = Y.iloc[trainIndex]\n",
    "    test_Y = Y.iloc[testIndex]\n",
    "    \n",
    "    model.fit(train_X, train_Y.values.ravel())\n",
    "    pred_Y = model.predict(test_X)\n",
    "    \n",
    "    CM = confusion_matrix(test_Y, pred_Y)\n",
    "    \n",
    "    fig, ax = plt.subplots(figsize=(4,4))\n",
    "    ax = sns.heatmap(CM, annot=True, fmt='d', cmap='Blues', xticklabels = YClass , yticklabels = YClass)\n",
    "    plt.tight_layout()\n",
    "    plt.show(ax)\n",
    "\n",
    "    print(classification_report(test_Y,pred_Y))\n",
    "    \n",
    "    C3Pre = CM[0,0] / (CM[0,0] + CM[1,0] + CM[2,0])\n",
    "    C3PL.append(C3Pre)\n",
    "    C4Pre = CM[1,1] / (CM[0,1] + CM[1,1] + CM[2,1])\n",
    "    C4PL.append(C4Pre)\n",
    "    N1Pre = CM[2,2] / (CM[0,2] + CM[1,2] + CM[2,2])\n",
    "    N1PL.append(N1Pre)\n",
    "    \n",
    "    Acc = acs(test_Y,pred_Y)\n",
    "    AL.append(Acc)\n",
    "    \n",
    "print('\\nRF\\n')\n",
    "print('n_estimators = ', nbest)\n",
    "\n",
    "print('average C3 Precision = ', np.mean(C3PL).round(4))\n",
    "print('average C4 Precision = ' , np.mean(C4PL).round(4))\n",
    "print('average N1 Precision = ', np.mean(N1PL).round(4))\n",
    "print('average Accuracy = ', np.mean(AL).round(4))"
   ]
  },
  {
   "cell_type": "code",
   "execution_count": 9,
   "id": "7e1f727f",
   "metadata": {},
   "outputs": [
    {
     "data": {
      "text/plain": [
       "[0.891, 0.9, 0.91, 0.92, 0.93, 0.94, 0.95, 0.96, 0.97, 0.98, 0.99, 0.999]"
      ]
     },
     "execution_count": 9,
     "metadata": {},
     "output_type": "execute_result"
    }
   ],
   "source": [
    "#prepare for more optimization\n",
    "sbase = 0.99\n",
    "\n",
    "Range = []\n",
    "stage =  1\n",
    "\n",
    "for i in range(-10,11):\n",
    "    x = np.round(sbase + i*(10**(-1-stage)),stage+1)\n",
    "    \n",
    "    if (x <= 1):\n",
    "        Range.append(x)\n",
    "    \n",
    "        \n",
    "Range[0] = Range[0] + 10**(-2-stage)\n",
    "Range[-1] = Range[-1] - 10**(-2-stage)\n",
    "\n",
    "Range"
   ]
  },
  {
   "cell_type": "code",
   "execution_count": 10,
   "id": "6829e38e",
   "metadata": {},
   "outputs": [
    {
     "name": "stdout",
     "output_type": "stream",
     "text": [
      "Fitting 4 folds for each of 10 candidates, totalling 40 fits\n",
      "Fitting 4 folds for each of 21 candidates, totalling 84 fits\n"
     ]
    },
    {
     "data": {
      "text/html": [
       "<div>\n",
       "<style scoped>\n",
       "    .dataframe tbody tr th:only-of-type {\n",
       "        vertical-align: middle;\n",
       "    }\n",
       "\n",
       "    .dataframe tbody tr th {\n",
       "        vertical-align: top;\n",
       "    }\n",
       "\n",
       "    .dataframe thead th {\n",
       "        text-align: right;\n",
       "    }\n",
       "</style>\n",
       "<table border=\"1\" class=\"dataframe\">\n",
       "  <thead>\n",
       "    <tr style=\"text-align: right;\">\n",
       "      <th></th>\n",
       "      <th>size</th>\n",
       "    </tr>\n",
       "  </thead>\n",
       "  <tbody>\n",
       "    <tr>\n",
       "      <th>0</th>\n",
       "      <td>0.50</td>\n",
       "    </tr>\n",
       "    <tr>\n",
       "      <th>1</th>\n",
       "      <td>0.51</td>\n",
       "    </tr>\n",
       "  </tbody>\n",
       "</table>\n",
       "</div>"
      ],
      "text/plain": [
       "   size\n",
       "0  0.50\n",
       "1  0.51"
      ]
     },
     "execution_count": 10,
     "metadata": {},
     "output_type": "execute_result"
    }
   ],
   "source": [
    "#perform gridsearch to get optimal max_samples\n",
    "sbase = 1\n",
    "sbaseDF = pd.DataFrame(columns = ['size'])\n",
    "index = 0\n",
    "\n",
    "for stage in range(2):\n",
    "    \n",
    "    Range = []\n",
    "    for i in range(-10,11):\n",
    "        x = np.round(sbase + i*(10**(-1-stage)),stage+1)\n",
    "        \n",
    "        if (x < 1):\n",
    "            Range.append(x)\n",
    "            \n",
    "    Range[0] = Range[0] + 10**(-2-stage)\n",
    "    \n",
    "    param_grid = {'max_samples': Range}\n",
    "    grid = GridSearchCV(RFC(random_state = 0), param_grid, cv = cv, verbose = 1)\n",
    "    grid.fit(X,Y.values.ravel())\n",
    "    \n",
    "    sbase = grid.best_params_['max_samples']\n",
    "    \n",
    "    sbaseDF.loc[index] = sbase\n",
    "    index += 1\n",
    "    \n",
    "sbest = sbaseDF.iloc[-1].values[0]\n",
    "sbaseDF"
   ]
  },
  {
   "cell_type": "code",
   "execution_count": 11,
   "id": "02b0ad49",
   "metadata": {},
   "outputs": [
    {
     "name": "stdout",
     "output_type": "stream",
     "text": [
      "\n",
      "\n",
      "Fold Group  1\n"
     ]
    },
    {
     "data": {
      "image/png": "[encoded data removed]",
      "text/plain": [
       "<Figure size 288x288 with 2 Axes>"
      ]
     },
     "metadata": {
      "needs_background": "light"
     },
     "output_type": "display_data"
    },
    {
     "name": "stdout",
     "output_type": "stream",
     "text": [
      "              precision    recall  f1-score   support\n",
      "\n",
      "  Condition3       0.88      0.70      0.78        10\n",
      "  Condition4       1.00      1.00      1.00        10\n",
      "     Normal1       0.80      0.92      0.86        13\n",
      "\n",
      "    accuracy                           0.88        33\n",
      "   macro avg       0.89      0.87      0.88        33\n",
      "weighted avg       0.88      0.88      0.88        33\n",
      "\n",
      "\n",
      "\n",
      "Fold Group  2\n"
     ]
    },
    {
     "data": {
      "image/png": "[encoded data removed]",
      "text/plain": [
       "<Figure size 288x288 with 2 Axes>"
      ]
     },
     "metadata": {
      "needs_background": "light"
     },
     "output_type": "display_data"
    },
    {
     "name": "stdout",
     "output_type": "stream",
     "text": [
      "              precision    recall  f1-score   support\n",
      "\n",
      "  Condition3       1.00      1.00      1.00        10\n",
      "  Condition4       1.00      1.00      1.00        10\n",
      "     Normal1       1.00      1.00      1.00        13\n",
      "\n",
      "    accuracy                           1.00        33\n",
      "   macro avg       1.00      1.00      1.00        33\n",
      "weighted avg       1.00      1.00      1.00        33\n",
      "\n",
      "\n",
      "\n",
      "Fold Group  3\n"
     ]
    },
    {
     "data": {
      "image/png": "[encoded data removed]",
      "text/plain": [
       "<Figure size 288x288 with 2 Axes>"
      ]
     },
     "metadata": {
      "needs_background": "light"
     },
     "output_type": "display_data"
    },
    {
     "name": "stdout",
     "output_type": "stream",
     "text": [
      "              precision    recall  f1-score   support\n",
      "\n",
      "  Condition3       0.82      0.90      0.86        10\n",
      "  Condition4       1.00      1.00      1.00        11\n",
      "     Normal1       0.91      0.83      0.87        12\n",
      "\n",
      "    accuracy                           0.91        33\n",
      "   macro avg       0.91      0.91      0.91        33\n",
      "weighted avg       0.91      0.91      0.91        33\n",
      "\n",
      "\n",
      "\n",
      "Fold Group  4\n"
     ]
    },
    {
     "data": {
      "image/png": "[encoded data removed]",
      "text/plain": [
       "<Figure size 288x288 with 2 Axes>"
      ]
     },
     "metadata": {
      "needs_background": "light"
     },
     "output_type": "display_data"
    },
    {
     "name": "stdout",
     "output_type": "stream",
     "text": [
      "              precision    recall  f1-score   support\n",
      "\n",
      "  Condition3       1.00      1.00      1.00        10\n",
      "  Condition4       1.00      1.00      1.00        10\n",
      "     Normal1       1.00      1.00      1.00        12\n",
      "\n",
      "    accuracy                           1.00        32\n",
      "   macro avg       1.00      1.00      1.00        32\n",
      "weighted avg       1.00      1.00      1.00        32\n",
      "\n",
      "\n",
      "RF\n",
      "\n",
      "max_samples =  0.51\n",
      "average C3 Precision =  0.9233\n",
      "average C4 Precision =  1.0\n",
      "average N1 Precision =  0.9273\n",
      "average Accuracy =  0.947\n"
     ]
    }
   ],
   "source": [
    "#test new optmization\n",
    "model = RFC(random_state = 0, max_samples = 0.50, n_estimators = 100)\n",
    "n = 1\n",
    "\n",
    "C3PL = []\n",
    "C4PL = []\n",
    "N1PL = []\n",
    "\n",
    "AL = []\n",
    "\n",
    "for trainIndex, testIndex in cv.split(X, Y):\n",
    "    print('\\n\\nFold Group ', n)\n",
    "    n += 1\n",
    "    \n",
    "    train_X = X.iloc[trainIndex]\n",
    "    test_X = X.iloc[testIndex]\n",
    "    train_Y = Y.iloc[trainIndex]\n",
    "    test_Y = Y.iloc[testIndex]\n",
    "    \n",
    "    model.fit(train_X, train_Y.values.ravel())\n",
    "    pred_Y = model.predict(test_X)\n",
    "    \n",
    "    CM = confusion_matrix(test_Y, pred_Y)\n",
    "    \n",
    "    fig, ax = plt.subplots(figsize=(4,4))\n",
    "    ax = sns.heatmap(CM, annot=True, fmt='d', cmap='Blues', xticklabels = YClass , yticklabels = YClass)\n",
    "    plt.tight_layout()\n",
    "    plt.show(ax)\n",
    "\n",
    "    print(classification_report(test_Y,pred_Y))\n",
    "    \n",
    "    C3Pre = CM[0,0] / (CM[0,0] + CM[1,0] + CM[2,0])\n",
    "    C3PL.append(C3Pre)\n",
    "    C4Pre = CM[1,1] / (CM[0,1] + CM[1,1] + CM[2,1])\n",
    "    C4PL.append(C4Pre)\n",
    "    N1Pre = CM[2,2] / (CM[0,2] + CM[1,2] + CM[2,2])\n",
    "    N1PL.append(N1Pre)\n",
    "    \n",
    "    Acc = acs(test_Y,pred_Y)\n",
    "    AL.append(Acc)\n",
    "    \n",
    "print('\\nRF\\n')\n",
    "print('max_samples = ',sbest)\n",
    "\n",
    "print('average C3 Precision = ', np.mean(C3PL).round(4))\n",
    "print('average C4 Precision = ' , np.mean(C4PL).round(4))\n",
    "print('average N1 Precision = ', np.mean(N1PL).round(4))\n",
    "print('average Accuracy = ', np.mean(AL).round(4))"
   ]
  },
  {
   "cell_type": "code",
   "execution_count": 12,
   "id": "6c377918",
   "metadata": {},
   "outputs": [
    {
     "name": "stdout",
     "output_type": "stream",
     "text": [
      "Fitting 4 folds for each of 200 candidates, totalling 800 fits\n",
      "Fitting 4 folds for each of 420 candidates, totalling 1680 fits\n",
      "\n",
      " 282.8 seconds elapsed\n"
     ]
    },
    {
     "data": {
      "text/html": [
       "<div>\n",
       "<style scoped>\n",
       "    .dataframe tbody tr th:only-of-type {\n",
       "        vertical-align: middle;\n",
       "    }\n",
       "\n",
       "    .dataframe tbody tr th {\n",
       "        vertical-align: top;\n",
       "    }\n",
       "\n",
       "    .dataframe thead th {\n",
       "        text-align: right;\n",
       "    }\n",
       "</style>\n",
       "<table border=\"1\" class=\"dataframe\">\n",
       "  <thead>\n",
       "    <tr style=\"text-align: right;\">\n",
       "      <th></th>\n",
       "      <th>n</th>\n",
       "      <th>s</th>\n",
       "    </tr>\n",
       "  </thead>\n",
       "  <tbody>\n",
       "    <tr>\n",
       "      <th>0</th>\n",
       "      <td>120.0</td>\n",
       "      <td>0.89</td>\n",
       "    </tr>\n",
       "    <tr>\n",
       "      <th>1</th>\n",
       "      <td>117.0</td>\n",
       "      <td>0.87</td>\n",
       "    </tr>\n",
       "  </tbody>\n",
       "</table>\n",
       "</div>"
      ],
      "text/plain": [
       "       n     s\n",
       "0  120.0  0.89\n",
       "1  117.0  0.87"
      ]
     },
     "execution_count": 12,
     "metadata": {},
     "output_type": "execute_result"
    }
   ],
   "source": [
    "#we wanted to see if test accuracy can be improved if both parameters were searched for concurrently \n",
    "Start = time.time()\n",
    "\n",
    "#simultaneous search\n",
    "\n",
    "nbase = 100\n",
    "sbase = 1\n",
    "\n",
    "baseDF = pd.DataFrame(columns = ['n','s'])\n",
    "\n",
    "index = 0\n",
    "\n",
    "for stage in range(2):\n",
    "    \n",
    "    nRange = []\n",
    "    sRange = []\n",
    "    \n",
    "    for i in range(-10,11):\n",
    "        if ( i != -10):\n",
    "            x = np.round(nbase + i*(10**(1-stage)),stage)\n",
    "            nRange.append(x)\n",
    "        y = np.round(sbase + i*(10**(-1-stage)),stage+1)\n",
    "        if (y < 1):\n",
    "            sRange.append(y)\n",
    "\n",
    "    sRange[0] = sRange[0] + 10**(-2-stage)\n",
    "    sRange[-1] = sRange[-1] - 10**(-2-stage)\n",
    "    \n",
    "    param_grid = {'n_estimators': nRange, 'max_samples': sRange}\n",
    "    grid = GridSearchCV(RFC(random_state = 0), param_grid, cv = cv, verbose = 1)\n",
    "    grid.fit(X,Y.values.ravel())\n",
    "    \n",
    "    nbase = grid.best_params_['n_estimators']\n",
    "    sbase = grid.best_params_['max_samples']\n",
    "    \n",
    "    baseDF.loc[index] = [nbase,sbase]\n",
    "    \n",
    "    index += 1\n",
    "\n",
    "End = time.time()\n",
    "\n",
    "print('\\n',np.round(End-Start,1), 'seconds elapsed')\n",
    "\n",
    "baseDF\n",
    "\n"
   ]
  },
  {
   "cell_type": "code",
   "execution_count": 13,
   "id": "552086e2",
   "metadata": {},
   "outputs": [],
   "source": [
    "nbest, sbest = baseDF.iloc[-1]\n",
    "\n",
    "nbest = np.int_(nbest)"
   ]
  },
  {
   "cell_type": "code",
   "execution_count": 14,
   "id": "fba6e0d4",
   "metadata": {},
   "outputs": [
    {
     "name": "stdout",
     "output_type": "stream",
     "text": [
      "\n",
      "\n",
      "Fold Group  1\n"
     ]
    },
    {
     "data": {
      "image/png": "[encoded data removed]",
      "text/plain": [
       "<Figure size 288x288 with 2 Axes>"
      ]
     },
     "metadata": {
      "needs_background": "light"
     },
     "output_type": "display_data"
    },
    {
     "name": "stdout",
     "output_type": "stream",
     "text": [
      "              precision    recall  f1-score   support\n",
      "\n",
      "  Condition3       0.89      0.80      0.84        10\n",
      "  Condition4       1.00      1.00      1.00        10\n",
      "     Normal1       0.86      0.92      0.89        13\n",
      "\n",
      "    accuracy                           0.91        33\n",
      "   macro avg       0.92      0.91      0.91        33\n",
      "weighted avg       0.91      0.91      0.91        33\n",
      "\n",
      "\n",
      "\n",
      "Fold Group  2\n"
     ]
    },
    {
     "data": {
      "image/png": "[encoded data removed]",
      "text/plain": [
       "<Figure size 288x288 with 2 Axes>"
      ]
     },
     "metadata": {
      "needs_background": "light"
     },
     "output_type": "display_data"
    },
    {
     "name": "stdout",
     "output_type": "stream",
     "text": [
      "              precision    recall  f1-score   support\n",
      "\n",
      "  Condition3       1.00      1.00      1.00        10\n",
      "  Condition4       1.00      1.00      1.00        10\n",
      "     Normal1       1.00      1.00      1.00        13\n",
      "\n",
      "    accuracy                           1.00        33\n",
      "   macro avg       1.00      1.00      1.00        33\n",
      "weighted avg       1.00      1.00      1.00        33\n",
      "\n",
      "\n",
      "\n",
      "Fold Group  3\n"
     ]
    },
    {
     "data": {
      "image/png": "[encoded data removed]",
      "text/plain": [
       "<Figure size 288x288 with 2 Axes>"
      ]
     },
     "metadata": {
      "needs_background": "light"
     },
     "output_type": "display_data"
    },
    {
     "name": "stdout",
     "output_type": "stream",
     "text": [
      "              precision    recall  f1-score   support\n",
      "\n",
      "  Condition3       0.91      1.00      0.95        10\n",
      "  Condition4       1.00      1.00      1.00        11\n",
      "     Normal1       1.00      0.92      0.96        12\n",
      "\n",
      "    accuracy                           0.97        33\n",
      "   macro avg       0.97      0.97      0.97        33\n",
      "weighted avg       0.97      0.97      0.97        33\n",
      "\n",
      "\n",
      "\n",
      "Fold Group  4\n"
     ]
    },
    {
     "data": {
      "image/png": "[encoded data removed]",
      "text/plain": [
       "<Figure size 288x288 with 2 Axes>"
      ]
     },
     "metadata": {
      "needs_background": "light"
     },
     "output_type": "display_data"
    },
    {
     "name": "stdout",
     "output_type": "stream",
     "text": [
      "              precision    recall  f1-score   support\n",
      "\n",
      "  Condition3       1.00      1.00      1.00        10\n",
      "  Condition4       0.91      1.00      0.95        10\n",
      "     Normal1       1.00      0.92      0.96        12\n",
      "\n",
      "    accuracy                           0.97        32\n",
      "   macro avg       0.97      0.97      0.97        32\n",
      "weighted avg       0.97      0.97      0.97        32\n",
      "\n",
      "\n",
      "Tuned RF\n",
      "\n",
      "n_estimators =  117\n",
      "max_samples =  0.87\n",
      "average C3 Precision =  0.9495\n",
      "average C4 Precision =  0.9773\n",
      "average N1 Precision =  0.9643\n",
      "average Accuracy =  0.9619\n"
     ]
    }
   ],
   "source": [
    "#we tested the optmised results in the simultaneous search\n",
    "model = RFC(random_state = 0, n_estimators = nbest, max_samples =sbest)\n",
    "n = 1\n",
    "\n",
    "C3PL = []\n",
    "C4PL = []\n",
    "N1PL = []\n",
    "\n",
    "AL = []\n",
    "\n",
    "for trainIndex, testIndex in cv.split(X, Y):\n",
    "    print('\\n\\nFold Group ', n)\n",
    "    n += 1\n",
    "    \n",
    "    train_X = X.iloc[trainIndex]\n",
    "    test_X = X.iloc[testIndex]\n",
    "    train_Y = Y.iloc[trainIndex]\n",
    "    test_Y = Y.iloc[testIndex]\n",
    "    \n",
    "    model.fit(train_X, train_Y.values.ravel())\n",
    "    pred_Y = model.predict(test_X)\n",
    "    \n",
    "    CM = confusion_matrix(test_Y, pred_Y)\n",
    "    \n",
    "    fig, ax = plt.subplots(figsize=(4,4))\n",
    "    ax = sns.heatmap(CM, annot=True, fmt='d', cmap='Blues', xticklabels = YClass , yticklabels = YClass)\n",
    "    plt.tight_layout()\n",
    "    plt.show(ax)\n",
    "\n",
    "    print(classification_report(test_Y,pred_Y))\n",
    "    \n",
    "    C3Pre = CM[0,0] / (CM[0,0] + CM[1,0] + CM[2,0])\n",
    "    C3PL.append(C3Pre)\n",
    "    C4Pre = CM[1,1] / (CM[0,1] + CM[1,1] + CM[2,1])\n",
    "    C4PL.append(C4Pre)\n",
    "    N1Pre = CM[2,2] / (CM[0,2] + CM[1,2] + CM[2,2])\n",
    "    N1PL.append(N1Pre)\n",
    "    \n",
    "    Acc = acs(test_Y,pred_Y)\n",
    "    AL.append(Acc)\n",
    "    \n",
    "print('\\nTuned RF\\n')\n",
    "print('n_estimators = ', nbest)\n",
    "print('max_samples = ', sbest)\n",
    "\n",
    "print('average C3 Precision = ', np.mean(C3PL).round(4))\n",
    "print('average C4 Precision = ' , np.mean(C4PL).round(4))\n",
    "print('average N1 Precision = ', np.mean(N1PL).round(4))\n",
    "print('average Accuracy = ', np.mean(AL).round(4))"
   ]
  },
  {
   "cell_type": "code",
   "execution_count": 15,
   "id": "eb2cbf53",
   "metadata": {},
   "outputs": [
    {
     "name": "stdout",
     "output_type": "stream",
     "text": [
      "\n",
      "\n",
      "Fold Group  1\n"
     ]
    },
    {
     "data": {
      "image/png": "[encoded data removed]",
      "text/plain": [
       "<Figure size 288x288 with 2 Axes>"
      ]
     },
     "metadata": {
      "needs_background": "light"
     },
     "output_type": "display_data"
    },
    {
     "name": "stdout",
     "output_type": "stream",
     "text": [
      "              precision    recall  f1-score   support\n",
      "\n",
      "  Condition3       1.00      1.00      1.00        30\n",
      "  Condition4       1.00      1.00      1.00        31\n",
      "     Normal1       1.00      1.00      1.00        37\n",
      "\n",
      "    accuracy                           1.00        98\n",
      "   macro avg       1.00      1.00      1.00        98\n",
      "weighted avg       1.00      1.00      1.00        98\n",
      "\n",
      "\n",
      "\n",
      "Fold Group  2\n"
     ]
    },
    {
     "data": {
      "image/png": "[encoded data removed]",
      "text/plain": [
       "<Figure size 288x288 with 2 Axes>"
      ]
     },
     "metadata": {
      "needs_background": "light"
     },
     "output_type": "display_data"
    },
    {
     "name": "stdout",
     "output_type": "stream",
     "text": [
      "              precision    recall  f1-score   support\n",
      "\n",
      "  Condition3       1.00      1.00      1.00        30\n",
      "  Condition4       1.00      1.00      1.00        31\n",
      "     Normal1       1.00      1.00      1.00        37\n",
      "\n",
      "    accuracy                           1.00        98\n",
      "   macro avg       1.00      1.00      1.00        98\n",
      "weighted avg       1.00      1.00      1.00        98\n",
      "\n",
      "\n",
      "\n",
      "Fold Group  3\n"
     ]
    },
    {
     "data": {
      "image/png": "[encoded data removed]",
      "text/plain": [
       "<Figure size 288x288 with 2 Axes>"
      ]
     },
     "metadata": {
      "needs_background": "light"
     },
     "output_type": "display_data"
    },
    {
     "name": "stdout",
     "output_type": "stream",
     "text": [
      "              precision    recall  f1-score   support\n",
      "\n",
      "  Condition3       1.00      1.00      1.00        30\n",
      "  Condition4       1.00      1.00      1.00        30\n",
      "     Normal1       1.00      1.00      1.00        38\n",
      "\n",
      "    accuracy                           1.00        98\n",
      "   macro avg       1.00      1.00      1.00        98\n",
      "weighted avg       1.00      1.00      1.00        98\n",
      "\n",
      "\n",
      "\n",
      "Fold Group  4\n"
     ]
    },
    {
     "data": {
      "image/png": "[encoded data removed]",
      "text/plain": [
       "<Figure size 288x288 with 2 Axes>"
      ]
     },
     "metadata": {
      "needs_background": "light"
     },
     "output_type": "display_data"
    },
    {
     "name": "stdout",
     "output_type": "stream",
     "text": [
      "              precision    recall  f1-score   support\n",
      "\n",
      "  Condition3       1.00      1.00      1.00        30\n",
      "  Condition4       1.00      1.00      1.00        31\n",
      "     Normal1       1.00      1.00      1.00        38\n",
      "\n",
      "    accuracy                           1.00        99\n",
      "   macro avg       1.00      1.00      1.00        99\n",
      "weighted avg       1.00      1.00      1.00        99\n",
      "\n",
      "\n",
      "RF\n",
      "\n",
      "max_samples =  0.87\n",
      "average C3 Precision =  1.0\n",
      "average C4 Precision =  1.0\n",
      "average N1 Precision =  1.0\n",
      "average Accuracy =  1.0\n"
     ]
    }
   ],
   "source": [
    "#Found training accuracy to compare overfit\n",
    "model = RFC(random_state = 0, n_estimators = nbest, max_samples = sbest)\n",
    "n = 1\n",
    "\n",
    "C3PL = []\n",
    "C4PL = []\n",
    "N1PL = []\n",
    "\n",
    "AL = []\n",
    "\n",
    "for trainIndex, testIndex in cv.split(X, Y):\n",
    "    print('\\n\\nFold Group ', n)\n",
    "    n += 1\n",
    "    \n",
    "    train_X = X.iloc[trainIndex]\n",
    "    test_X = X.iloc[testIndex]\n",
    "    train_Y = Y.iloc[trainIndex]\n",
    "    test_Y = Y.iloc[testIndex]\n",
    "    \n",
    "    model.fit(train_X, train_Y.values.ravel())\n",
    "    pred_Y = model.predict(train_X)\n",
    "    \n",
    "    CM = confusion_matrix(train_Y, pred_Y)\n",
    "    \n",
    "    fig, ax = plt.subplots(figsize=(4,4))\n",
    "    ax = sns.heatmap(CM, annot=True, fmt='d', cmap='Blues', xticklabels = YClass , yticklabels = YClass)\n",
    "    plt.tight_layout()\n",
    "    plt.show(ax)\n",
    "\n",
    "    print(classification_report(train_Y,pred_Y))\n",
    "    \n",
    "    C3Pre = CM[0,0] / (CM[0,0] + CM[1,0] + CM[2,0])\n",
    "    C3PL.append(C3Pre)\n",
    "    C4Pre = CM[1,1] / (CM[0,1] + CM[1,1] + CM[2,1])\n",
    "    C4PL.append(C4Pre)\n",
    "    N1Pre = CM[2,2] / (CM[0,2] + CM[1,2] + CM[2,2])\n",
    "    N1PL.append(N1Pre)\n",
    "    \n",
    "    Acc = acs(train_Y,pred_Y)\n",
    "    AL.append(Acc)\n",
    "    \n",
    "print('\\nRF\\n')\n",
    "print('max_samples = ',sbest)\n",
    "\n",
    "print('average C3 Precision = ', np.mean(C3PL).round(4))\n",
    "print('average C4 Precision = ' , np.mean(C4PL).round(4))\n",
    "print('average N1 Precision = ', np.mean(N1PL).round(4))\n",
    "print('average Accuracy = ', np.mean(AL).round(4))"
   ]
  },
  {
   "cell_type": "code",
   "execution_count": null,
   "id": "ccfc48e1",
   "metadata": {},
   "outputs": [],
   "source": []
  },
  {
   "cell_type": "raw",
   "id": "d8e5d12d",
   "metadata": {},
   "source": [
    "model = RFC(random_state = 0, n_estimators = nbest, max_samples = sbest, max_depth = depth, min_samples_leaf = j+1)"
   ]
  },
  {
   "cell_type": "code",
   "execution_count": 16,
   "id": "a6207e9f",
   "metadata": {},
   "outputs": [
    {
     "name": "stdout",
     "output_type": "stream",
     "text": [
      "\n",
      "max_depth 2\n",
      "min_samples_leaf =  2\n",
      "Accuracy = 0.9089\n",
      "min_samples_leaf =  3\n",
      "Accuracy = 0.9089\n",
      "min_samples_leaf =  4\n",
      "Accuracy = 0.9164\n",
      "min_samples_leaf =  5\n",
      "Accuracy = 0.9089\n",
      "min_samples_leaf =  6\n",
      "Accuracy = 0.9013\n",
      "min_samples_leaf =  7\n",
      "Accuracy = 0.9089\n",
      "min_samples_leaf =  8\n",
      "Accuracy = 0.9089\n",
      "min_samples_leaf =  9\n",
      "Accuracy = 0.9086\n",
      "min_samples_leaf =  10\n",
      "Accuracy = 0.8857\n",
      "min_samples_leaf =  11\n",
      "Accuracy = 0.8932\n",
      "min_samples_leaf =  12\n",
      "Accuracy = 0.8781\n",
      "min_samples_leaf =  13\n",
      "Accuracy = 0.8857\n",
      "min_samples_leaf =  14\n",
      "Accuracy = 0.8781\n",
      "min_samples_leaf =  15\n",
      "Accuracy = 0.8857\n",
      "min_samples_leaf =  16\n",
      "Accuracy = 0.8932\n",
      "min_samples_leaf =  17\n",
      "Accuracy = 0.8857\n",
      "min_samples_leaf =  18\n",
      "Accuracy = 0.8857\n",
      "min_samples_leaf =  19\n",
      "Accuracy = 0.8932\n",
      "min_samples_leaf =  20\n",
      "Accuracy = 0.8857\n",
      "min_samples_leaf =  21\n",
      "Accuracy = 0.8705\n",
      "min_samples_leaf =  22\n",
      "Accuracy = 0.8781\n",
      "min_samples_leaf =  23\n",
      "Accuracy = 0.8627\n",
      "min_samples_leaf =  24\n",
      "Accuracy = 0.84\n",
      "min_samples_leaf =  25\n",
      "Accuracy = 0.8248\n",
      "min_samples_leaf =  26\n",
      "Accuracy = 0.8475\n",
      "\n",
      "max_depth 3\n",
      "min_samples_leaf =  2\n",
      "Accuracy = 0.9164\n",
      "min_samples_leaf =  3\n",
      "Accuracy = 0.9164\n",
      "min_samples_leaf =  4\n",
      "Accuracy = 0.9089\n",
      "min_samples_leaf =  5\n",
      "Accuracy = 0.9089\n",
      "min_samples_leaf =  6\n",
      "Accuracy = 0.9013\n",
      "min_samples_leaf =  7\n",
      "Accuracy = 0.9013\n",
      "min_samples_leaf =  8\n",
      "Accuracy = 0.9013\n",
      "min_samples_leaf =  9\n",
      "Accuracy = 0.8935\n",
      "min_samples_leaf =  10\n",
      "Accuracy = 0.8932\n",
      "min_samples_leaf =  11\n",
      "Accuracy = 0.8781\n",
      "min_samples_leaf =  12\n",
      "Accuracy = 0.8857\n",
      "min_samples_leaf =  13\n",
      "Accuracy = 0.8857\n",
      "min_samples_leaf =  14\n",
      "Accuracy = 0.8857\n",
      "min_samples_leaf =  15\n",
      "Accuracy = 0.8857\n",
      "min_samples_leaf =  16\n",
      "Accuracy = 0.8857\n",
      "min_samples_leaf =  17\n",
      "Accuracy = 0.8857\n",
      "min_samples_leaf =  18\n",
      "Accuracy = 0.8857\n",
      "min_samples_leaf =  19\n",
      "Accuracy = 0.8932\n",
      "min_samples_leaf =  20\n",
      "Accuracy = 0.8857\n",
      "min_samples_leaf =  21\n",
      "Accuracy = 0.8705\n",
      "min_samples_leaf =  22\n",
      "Accuracy = 0.8781\n",
      "min_samples_leaf =  23\n",
      "Accuracy = 0.8627\n",
      "min_samples_leaf =  24\n",
      "Accuracy = 0.84\n",
      "min_samples_leaf =  25\n",
      "Accuracy = 0.8248\n",
      "min_samples_leaf =  26\n",
      "Accuracy = 0.8475\n",
      "\n",
      "max_depth 4\n",
      "min_samples_leaf =  2\n",
      "Accuracy = 0.9316\n",
      "min_samples_leaf =  3\n",
      "Accuracy = 0.9316\n",
      "min_samples_leaf =  4\n",
      "Accuracy = 0.924\n",
      "min_samples_leaf =  5\n",
      "Accuracy = 0.9086\n",
      "min_samples_leaf =  6\n",
      "Accuracy = 0.9089\n",
      "min_samples_leaf =  7\n",
      "Accuracy = 0.9013\n",
      "min_samples_leaf =  8\n",
      "Accuracy = 0.9013\n",
      "min_samples_leaf =  9\n",
      "Accuracy = 0.8935\n",
      "min_samples_leaf =  10\n",
      "Accuracy = 0.8932\n",
      "min_samples_leaf =  11\n",
      "Accuracy = 0.8859\n",
      "min_samples_leaf =  12\n",
      "Accuracy = 0.8857\n",
      "min_samples_leaf =  13\n",
      "Accuracy = 0.8857\n",
      "min_samples_leaf =  14\n",
      "Accuracy = 0.8857\n",
      "min_samples_leaf =  15\n",
      "Accuracy = 0.8857\n",
      "min_samples_leaf =  16\n",
      "Accuracy = 0.8857\n",
      "min_samples_leaf =  17\n",
      "Accuracy = 0.8857\n",
      "min_samples_leaf =  18\n",
      "Accuracy = 0.8857\n",
      "min_samples_leaf =  19\n",
      "Accuracy = 0.8932\n",
      "min_samples_leaf =  20\n",
      "Accuracy = 0.8857\n",
      "min_samples_leaf =  21\n",
      "Accuracy = 0.8705\n",
      "min_samples_leaf =  22\n",
      "Accuracy = 0.8781\n",
      "min_samples_leaf =  23\n",
      "Accuracy = 0.8627\n",
      "min_samples_leaf =  24\n",
      "Accuracy = 0.84\n",
      "min_samples_leaf =  25\n",
      "Accuracy = 0.8248\n",
      "min_samples_leaf =  26\n",
      "Accuracy = 0.8475\n"
     ]
    }
   ],
   "source": [
    "#we wanted to see if we could optmise the RF further, hence we looked at the same hyperparameters used to optmise the DT\n",
    "\n",
    "colNames = ['max depth','min leaf','C3P','C4P','N1P','Acc']\n",
    "AccDF = pd.DataFrame(columns = colNames)\n",
    "AccIndex = 0\n",
    "\n",
    "for i in range(2, 5):                  #choose depth from 2 to 4 ( max tree depth - 1)\n",
    "    depth = i\n",
    "    print('\\nmax_depth', i)\n",
    "    \n",
    "        \n",
    "    for j in range(1,26):                                         #...choose leaf size from 1 to 25 next...\n",
    "        \n",
    "        N1PL = []    # Normal1 Precision List\n",
    "        C3PL = []    # Condition3 Precision List\n",
    "        C4PL = []    # Condition4 Precision List\n",
    "        AL = []\n",
    "        \n",
    "        print('min_samples_leaf = ', j+1)\n",
    "        \n",
    "        model = RFC(random_state = 0, max_depth = depth, min_samples_leaf = j+1)\n",
    "\n",
    "        for trainIndex, testIndex in cv.split(X,Y):\n",
    "    \n",
    "            train_X = X.iloc[trainIndex]                 #train/test data allocation\n",
    "            test_X = X.iloc[testIndex]\n",
    "            train_Y = Y.iloc[trainIndex]\n",
    "            test_Y = Y.iloc[testIndex]\n",
    "    \n",
    "            model.fit(train_X,train_Y.values.ravel())                   #model building and prediction\n",
    "            pred_Y = model.predict(test_X)\n",
    "    \n",
    "            CM = confusion_matrix(test_Y, pred_Y)        #confusion matrix\n",
    "    \n",
    "            C3Pre = CM[0,0] / (CM[0,0] + CM[1,0] + CM[2,0])\n",
    "            C3PL.append(C3Pre)\n",
    "            C4Pre = CM[1,1] / (CM[0,1] + CM[1,1] + CM[2,1])\n",
    "            C4PL.append(C4Pre)\n",
    "            N1Pre = CM[2,2] / (CM[0,2] + CM[1,2] + CM[2,2])\n",
    "            N1PL.append(N1Pre)\n",
    "    \n",
    "            Acc = acs(test_Y,pred_Y)\n",
    "            AL.append(Acc)\n",
    "            \n",
    "        # at the end of cross validation, calculate accuracy averages\n",
    "        \n",
    "        C3Pmean = np.mean(C3PL).round(4)\n",
    "        C4Pmean = np.mean(C4PL).round(4)\n",
    "        N1Pmean = np.mean(N1PL).round(4)\n",
    "        Accmean = np.mean(AL).round(4)\n",
    "        \n",
    "        print('Accuracy =', Accmean)\n",
    "        \n",
    "        AccDF.loc[AccIndex] = [depth,j+1,C3Pmean,C4Pmean,N1Pmean,Accmean]#stores result in AccDF\n",
    "        AccIndex = AccIndex + 1\n"
   ]
  },
  {
   "cell_type": "code",
   "execution_count": 17,
   "id": "91e3602b",
   "metadata": {},
   "outputs": [
    {
     "data": {
      "text/html": [
       "<div>\n",
       "<style scoped>\n",
       "    .dataframe tbody tr th:only-of-type {\n",
       "        vertical-align: middle;\n",
       "    }\n",
       "\n",
       "    .dataframe tbody tr th {\n",
       "        vertical-align: top;\n",
       "    }\n",
       "\n",
       "    .dataframe thead th {\n",
       "        text-align: right;\n",
       "    }\n",
       "</style>\n",
       "<table border=\"1\" class=\"dataframe\">\n",
       "  <thead>\n",
       "    <tr style=\"text-align: right;\">\n",
       "      <th></th>\n",
       "      <th>max depth</th>\n",
       "      <th>min leaf</th>\n",
       "      <th>C3P</th>\n",
       "      <th>C4P</th>\n",
       "      <th>N1P</th>\n",
       "      <th>Acc</th>\n",
       "    </tr>\n",
       "  </thead>\n",
       "  <tbody>\n",
       "    <tr>\n",
       "      <th>50</th>\n",
       "      <td>4.0</td>\n",
       "      <td>2.0</td>\n",
       "      <td>0.9393</td>\n",
       "      <td>0.9564</td>\n",
       "      <td>0.9148</td>\n",
       "      <td>0.9316</td>\n",
       "    </tr>\n",
       "    <tr>\n",
       "      <th>51</th>\n",
       "      <td>4.0</td>\n",
       "      <td>3.0</td>\n",
       "      <td>0.9393</td>\n",
       "      <td>0.9564</td>\n",
       "      <td>0.9148</td>\n",
       "      <td>0.9316</td>\n",
       "    </tr>\n",
       "    <tr>\n",
       "      <th>52</th>\n",
       "      <td>4.0</td>\n",
       "      <td>4.0</td>\n",
       "      <td>0.9393</td>\n",
       "      <td>0.9773</td>\n",
       "      <td>0.8833</td>\n",
       "      <td>0.9240</td>\n",
       "    </tr>\n",
       "    <tr>\n",
       "      <th>2</th>\n",
       "      <td>2.0</td>\n",
       "      <td>4.0</td>\n",
       "      <td>0.9333</td>\n",
       "      <td>0.9564</td>\n",
       "      <td>0.8859</td>\n",
       "      <td>0.9164</td>\n",
       "    </tr>\n",
       "    <tr>\n",
       "      <th>26</th>\n",
       "      <td>3.0</td>\n",
       "      <td>3.0</td>\n",
       "      <td>0.9143</td>\n",
       "      <td>0.9564</td>\n",
       "      <td>0.8955</td>\n",
       "      <td>0.9164</td>\n",
       "    </tr>\n",
       "    <tr>\n",
       "      <th>...</th>\n",
       "      <td>...</td>\n",
       "      <td>...</td>\n",
       "      <td>...</td>\n",
       "      <td>...</td>\n",
       "      <td>...</td>\n",
       "      <td>...</td>\n",
       "    </tr>\n",
       "    <tr>\n",
       "      <th>47</th>\n",
       "      <td>3.0</td>\n",
       "      <td>24.0</td>\n",
       "      <td>0.8197</td>\n",
       "      <td>0.8410</td>\n",
       "      <td>0.8851</td>\n",
       "      <td>0.8400</td>\n",
       "    </tr>\n",
       "    <tr>\n",
       "      <th>72</th>\n",
       "      <td>4.0</td>\n",
       "      <td>24.0</td>\n",
       "      <td>0.8197</td>\n",
       "      <td>0.8410</td>\n",
       "      <td>0.8851</td>\n",
       "      <td>0.8400</td>\n",
       "    </tr>\n",
       "    <tr>\n",
       "      <th>23</th>\n",
       "      <td>2.0</td>\n",
       "      <td>25.0</td>\n",
       "      <td>0.7992</td>\n",
       "      <td>0.8279</td>\n",
       "      <td>0.8661</td>\n",
       "      <td>0.8248</td>\n",
       "    </tr>\n",
       "    <tr>\n",
       "      <th>48</th>\n",
       "      <td>3.0</td>\n",
       "      <td>25.0</td>\n",
       "      <td>0.7992</td>\n",
       "      <td>0.8279</td>\n",
       "      <td>0.8661</td>\n",
       "      <td>0.8248</td>\n",
       "    </tr>\n",
       "    <tr>\n",
       "      <th>73</th>\n",
       "      <td>4.0</td>\n",
       "      <td>25.0</td>\n",
       "      <td>0.7992</td>\n",
       "      <td>0.8279</td>\n",
       "      <td>0.8661</td>\n",
       "      <td>0.8248</td>\n",
       "    </tr>\n",
       "  </tbody>\n",
       "</table>\n",
       "<p>75 rows × 6 columns</p>\n",
       "</div>"
      ],
      "text/plain": [
       "    max depth  min leaf     C3P     C4P     N1P     Acc\n",
       "50        4.0       2.0  0.9393  0.9564  0.9148  0.9316\n",
       "51        4.0       3.0  0.9393  0.9564  0.9148  0.9316\n",
       "52        4.0       4.0  0.9393  0.9773  0.8833  0.9240\n",
       "2         2.0       4.0  0.9333  0.9564  0.8859  0.9164\n",
       "26        3.0       3.0  0.9143  0.9564  0.8955  0.9164\n",
       "..        ...       ...     ...     ...     ...     ...\n",
       "47        3.0      24.0  0.8197  0.8410  0.8851  0.8400\n",
       "72        4.0      24.0  0.8197  0.8410  0.8851  0.8400\n",
       "23        2.0      25.0  0.7992  0.8279  0.8661  0.8248\n",
       "48        3.0      25.0  0.7992  0.8279  0.8661  0.8248\n",
       "73        4.0      25.0  0.7992  0.8279  0.8661  0.8248\n",
       "\n",
       "[75 rows x 6 columns]"
      ]
     },
     "execution_count": 17,
     "metadata": {},
     "output_type": "execute_result"
    }
   ],
   "source": [
    "AccDF.sort_values(by = 'Acc', ascending = False)"
   ]
  },
  {
   "cell_type": "code",
   "execution_count": null,
   "id": "e016f7b2",
   "metadata": {},
   "outputs": [],
   "source": [
    "# we took the optimal max_depth and min leaf and amalgamated them against original optimised hyperparameters and ran it, hoping for an increased accuracy"
   ]
  },
  {
   "cell_type": "code",
   "execution_count": 32,
   "id": "c547ed7a",
   "metadata": {},
   "outputs": [
    {
     "name": "stdout",
     "output_type": "stream",
     "text": [
      "\n",
      "\n",
      "Fold Group  1\n"
     ]
    },
    {
     "data": {
      "image/png": "[encoded data removed]",
      "text/plain": [
       "<Figure size 288x288 with 2 Axes>"
      ]
     },
     "metadata": {
      "needs_background": "light"
     },
     "output_type": "display_data"
    },
    {
     "name": "stdout",
     "output_type": "stream",
     "text": [
      "              precision    recall  f1-score   support\n",
      "\n",
      "  Condition3       0.88      0.70      0.78        10\n",
      "  Condition4       1.00      1.00      1.00        10\n",
      "     Normal1       0.80      0.92      0.86        13\n",
      "\n",
      "    accuracy                           0.88        33\n",
      "   macro avg       0.89      0.87      0.88        33\n",
      "weighted avg       0.88      0.88      0.88        33\n",
      "\n",
      "\n",
      "\n",
      "Fold Group  2\n"
     ]
    },
    {
     "data": {
      "image/png": "[encoded data removed]",
      "text/plain": [
       "<Figure size 288x288 with 2 Axes>"
      ]
     },
     "metadata": {
      "needs_background": "light"
     },
     "output_type": "display_data"
    },
    {
     "name": "stdout",
     "output_type": "stream",
     "text": [
      "              precision    recall  f1-score   support\n",
      "\n",
      "  Condition3       1.00      0.90      0.95        10\n",
      "  Condition4       1.00      1.00      1.00        10\n",
      "     Normal1       0.93      1.00      0.96        13\n",
      "\n",
      "    accuracy                           0.97        33\n",
      "   macro avg       0.98      0.97      0.97        33\n",
      "weighted avg       0.97      0.97      0.97        33\n",
      "\n",
      "\n",
      "\n",
      "Fold Group  3\n"
     ]
    },
    {
     "data": {
      "image/png": "[encoded data removed]",
      "text/plain": [
       "<Figure size 288x288 with 2 Axes>"
      ]
     },
     "metadata": {
      "needs_background": "light"
     },
     "output_type": "display_data"
    },
    {
     "name": "stdout",
     "output_type": "stream",
     "text": [
      "              precision    recall  f1-score   support\n",
      "\n",
      "  Condition3       0.90      0.90      0.90        10\n",
      "  Condition4       1.00      1.00      1.00        11\n",
      "     Normal1       0.92      0.92      0.92        12\n",
      "\n",
      "    accuracy                           0.94        33\n",
      "   macro avg       0.94      0.94      0.94        33\n",
      "weighted avg       0.94      0.94      0.94        33\n",
      "\n",
      "\n",
      "\n",
      "Fold Group  4\n"
     ]
    },
    {
     "data": {
      "image/png": "[encoded data removed]",
      "text/plain": [
       "<Figure size 288x288 with 2 Axes>"
      ]
     },
     "metadata": {
      "needs_background": "light"
     },
     "output_type": "display_data"
    },
    {
     "name": "stdout",
     "output_type": "stream",
     "text": [
      "              precision    recall  f1-score   support\n",
      "\n",
      "  Condition3       1.00      0.90      0.95        10\n",
      "  Condition4       0.91      1.00      0.95        10\n",
      "     Normal1       0.92      0.92      0.92        12\n",
      "\n",
      "    accuracy                           0.94        32\n",
      "   macro avg       0.94      0.94      0.94        32\n",
      "weighted avg       0.94      0.94      0.94        32\n",
      "\n",
      "\n",
      "RF\n",
      "\n",
      "max_samples =  0.87\n",
      "average C3 Precision =  0.9438\n",
      "average C4 Precision =  0.9773\n",
      "average N1 Precision =  0.8905\n",
      "average Accuracy =  0.9313\n"
     ]
    }
   ],
   "source": [
    "model = model = RFC(random_state = 0, n_estimators = nbest, max_samples = sbest, max_depth = 4, min_samples_leaf = 3)\n",
    "n = 1\n",
    "\n",
    "C3PL = []\n",
    "C4PL = []\n",
    "N1PL = []\n",
    "\n",
    "AL = []\n",
    "\n",
    "for trainIndex, testIndex in cv.split(X, Y):\n",
    "    print('\\n\\nFold Group ', n)\n",
    "    n += 1\n",
    "    \n",
    "    train_X = X.iloc[trainIndex]\n",
    "    test_X = X.iloc[testIndex]\n",
    "    train_Y = Y.iloc[trainIndex]\n",
    "    test_Y = Y.iloc[testIndex]\n",
    "    \n",
    "    model.fit(train_X, train_Y.values.ravel())\n",
    "    pred_Y = model.predict(test_X)\n",
    "    \n",
    "    CM = confusion_matrix(test_Y, pred_Y)\n",
    "    \n",
    "    fig, ax = plt.subplots(figsize=(4,4))\n",
    "    ax = sns.heatmap(CM, annot=True, fmt='d', cmap='Blues', xticklabels = YClass , yticklabels = YClass)\n",
    "    plt.tight_layout()\n",
    "    plt.show(ax)\n",
    "\n",
    "    print(classification_report(test_Y,pred_Y))\n",
    "    \n",
    "    C3Pre = CM[0,0] / (CM[0,0] + CM[1,0] + CM[2,0])\n",
    "    C3PL.append(C3Pre)\n",
    "    C4Pre = CM[1,1] / (CM[0,1] + CM[1,1] + CM[2,1])\n",
    "    C4PL.append(C4Pre)\n",
    "    N1Pre = CM[2,2] / (CM[0,2] + CM[1,2] + CM[2,2])\n",
    "    N1PL.append(N1Pre)\n",
    "    \n",
    "    Acc = acs(test_Y,pred_Y)\n",
    "    AL.append(Acc)\n",
    "    \n",
    "print('\\nRF\\n')\n",
    "print('max_samples = ',sbest)\n",
    "\n",
    "print('average C3 Precision = ', np.mean(C3PL).round(4))\n",
    "print('average C4 Precision = ' , np.mean(C4PL).round(4))\n",
    "print('average N1 Precision = ', np.mean(N1PL).round(4))\n",
    "print('average Accuracy = ', np.mean(AL).round(4))"
   ]
  },
  {
   "cell_type": "code",
   "execution_count": null,
   "id": "ef9594f2",
   "metadata": {},
   "outputs": [],
   "source": [
    "#however we realised that it did not give as good accuracies as the initial simultaneous optmization of n_estimators and max_samples "
   ]
  },
  {
   "cell_type": "code",
   "execution_count": 19,
   "id": "ea8cd505",
   "metadata": {},
   "outputs": [
    {
     "name": "stdout",
     "output_type": "stream",
     "text": [
      "\n",
      "\n",
      "Fold Group  1\n"
     ]
    },
    {
     "data": {
      "image/png": "[encoded data removed]",
      "text/plain": [
       "<Figure size 288x288 with 2 Axes>"
      ]
     },
     "metadata": {
      "needs_background": "light"
     },
     "output_type": "display_data"
    },
    {
     "name": "stdout",
     "output_type": "stream",
     "text": [
      "              precision    recall  f1-score   support\n",
      "\n",
      "  Condition3       1.00      1.00      1.00        30\n",
      "  Condition4       1.00      1.00      1.00        31\n",
      "     Normal1       1.00      1.00      1.00        37\n",
      "\n",
      "    accuracy                           1.00        98\n",
      "   macro avg       1.00      1.00      1.00        98\n",
      "weighted avg       1.00      1.00      1.00        98\n",
      "\n",
      "\n",
      "\n",
      "Fold Group  2\n"
     ]
    },
    {
     "data": {
      "image/png": "[encoded data removed]",
      "text/plain": [
       "<Figure size 288x288 with 2 Axes>"
      ]
     },
     "metadata": {
      "needs_background": "light"
     },
     "output_type": "display_data"
    },
    {
     "name": "stdout",
     "output_type": "stream",
     "text": [
      "              precision    recall  f1-score   support\n",
      "\n",
      "  Condition3       1.00      1.00      1.00        30\n",
      "  Condition4       1.00      1.00      1.00        31\n",
      "     Normal1       1.00      1.00      1.00        37\n",
      "\n",
      "    accuracy                           1.00        98\n",
      "   macro avg       1.00      1.00      1.00        98\n",
      "weighted avg       1.00      1.00      1.00        98\n",
      "\n",
      "\n",
      "\n",
      "Fold Group  3\n"
     ]
    },
    {
     "data": {
      "image/png": "[encoded data removed]",
      "text/plain": [
       "<Figure size 288x288 with 2 Axes>"
      ]
     },
     "metadata": {
      "needs_background": "light"
     },
     "output_type": "display_data"
    },
    {
     "name": "stdout",
     "output_type": "stream",
     "text": [
      "              precision    recall  f1-score   support\n",
      "\n",
      "  Condition3       1.00      1.00      1.00        30\n",
      "  Condition4       1.00      1.00      1.00        30\n",
      "     Normal1       1.00      1.00      1.00        38\n",
      "\n",
      "    accuracy                           1.00        98\n",
      "   macro avg       1.00      1.00      1.00        98\n",
      "weighted avg       1.00      1.00      1.00        98\n",
      "\n",
      "\n",
      "\n",
      "Fold Group  4\n"
     ]
    },
    {
     "data": {
      "image/png": "[encoded data removed]",
      "text/plain": [
       "<Figure size 288x288 with 2 Axes>"
      ]
     },
     "metadata": {
      "needs_background": "light"
     },
     "output_type": "display_data"
    },
    {
     "name": "stdout",
     "output_type": "stream",
     "text": [
      "              precision    recall  f1-score   support\n",
      "\n",
      "  Condition3       1.00      1.00      1.00        30\n",
      "  Condition4       1.00      1.00      1.00        31\n",
      "     Normal1       1.00      1.00      1.00        38\n",
      "\n",
      "    accuracy                           1.00        99\n",
      "   macro avg       1.00      1.00      1.00        99\n",
      "weighted avg       1.00      1.00      1.00        99\n",
      "\n",
      "\n",
      "RF\n",
      "\n",
      "max_samples =  0.87\n",
      "average C3 Precision =  1.0\n",
      "average C4 Precision =  1.0\n",
      "average N1 Precision =  1.0\n",
      "average Accuracy =  1.0\n"
     ]
    }
   ],
   "source": [
    "#we procede to find training dataset for this optmization to compare overfit if needed\n",
    "model = RFC(random_state = 0, max_depth = 4, min_samples_leaf = 3)\n",
    "n = 1\n",
    "\n",
    "C3PL = []\n",
    "C4PL = []\n",
    "N1PL = []\n",
    "\n",
    "AL = []\n",
    "\n",
    "for trainIndex, testIndex in cv.split(X, Y):\n",
    "    print('\\n\\nFold Group ', n)\n",
    "    n += 1\n",
    "    \n",
    "    train_X = X.iloc[trainIndex]\n",
    "    test_X = X.iloc[testIndex]\n",
    "    train_Y = Y.iloc[trainIndex]\n",
    "    test_Y = Y.iloc[testIndex]\n",
    "    \n",
    "    model.fit(train_X, train_Y.values.ravel())\n",
    "    pred_Y = model.predict(train_X)\n",
    "    \n",
    "    CM = confusion_matrix(train_Y, pred_Y)\n",
    "    \n",
    "    fig, ax = plt.subplots(figsize=(4,4))\n",
    "    ax = sns.heatmap(CM, annot=True, fmt='d', cmap='Blues', xticklabels = YClass , yticklabels = YClass)\n",
    "    plt.tight_layout()\n",
    "    plt.show(ax)\n",
    "\n",
    "    print(classification_report(train_Y,pred_Y))\n",
    "    \n",
    "    C3Pre = CM[0,0] / (CM[0,0] + CM[1,0] + CM[2,0])\n",
    "    C3PL.append(C3Pre)\n",
    "    C4Pre = CM[1,1] / (CM[0,1] + CM[1,1] + CM[2,1])\n",
    "    C4PL.append(C4Pre)\n",
    "    N1Pre = CM[2,2] / (CM[0,2] + CM[1,2] + CM[2,2])\n",
    "    N1PL.append(N1Pre)\n",
    "    \n",
    "    Acc = acs(train_Y,pred_Y)\n",
    "    AL.append(Acc)\n",
    "    \n",
    "print('\\nRF\\n')\n",
    "print('max_samples = ',sbest)\n",
    "\n",
    "print('average C3 Precision = ', np.mean(C3PL).round(4))\n",
    "print('average C4 Precision = ' , np.mean(C4PL).round(4))\n",
    "print('average N1 Precision = ', np.mean(N1PL).round(4))\n",
    "print('average Accuracy = ', np.mean(AL).round(4))"
   ]
  },
  {
   "cell_type": "code",
   "execution_count": null,
   "id": "e8a9b724",
   "metadata": {},
   "outputs": [],
   "source": [
    "#we proceded to test out Adaboost, an ensemble method"
   ]
  },
  {
   "cell_type": "code",
   "execution_count": 20,
   "id": "4eb1dde3",
   "metadata": {},
   "outputs": [
    {
     "name": "stdout",
     "output_type": "stream",
     "text": [
      "\n",
      " iteration: 1\n",
      "training data length: 98\n",
      "verification data length: 33\n",
      "Accuracy: 0.88\n",
      "Adaboost Prediction report \n",
      "               precision    recall  f1-score   support\n",
      "\n",
      "  Condition3       0.88      0.70      0.78        10\n",
      "  Condition4       1.00      1.00      1.00        10\n",
      "     Normal1       0.80      0.92      0.86        13\n",
      "\n",
      "    accuracy                           0.88        33\n",
      "   macro avg       0.89      0.87      0.88        33\n",
      "weighted avg       0.88      0.88      0.88        33\n",
      "\n"
     ]
    },
    {
     "data": {
      "image/png": "[encoded data removed]",
      "text/plain": [
       "<Figure size 288x288 with 2 Axes>"
      ]
     },
     "metadata": {
      "needs_background": "light"
     },
     "output_type": "display_data"
    },
    {
     "name": "stdout",
     "output_type": "stream",
     "text": [
      "\n",
      " iteration: 2\n",
      "training data length: 98\n",
      "verification data length: 33\n",
      "Accuracy: 0.67\n",
      "Adaboost Prediction report \n",
      "               precision    recall  f1-score   support\n",
      "\n",
      "  Condition3       0.00      0.00      0.00        10\n",
      "  Condition4       1.00      0.90      0.95        10\n",
      "     Normal1       0.54      1.00      0.70        13\n",
      "\n",
      "    accuracy                           0.67        33\n",
      "   macro avg       0.51      0.63      0.55        33\n",
      "weighted avg       0.52      0.67      0.56        33\n",
      "\n"
     ]
    },
    {
     "name": "stderr",
     "output_type": "stream",
     "text": [
      "C:\\Users\\nicho\\anaconda3\\lib\\site-packages\\sklearn\\metrics\\_classification.py:1318: UndefinedMetricWarning: Precision and F-score are ill-defined and being set to 0.0 in labels with no predicted samples. Use `zero_division` parameter to control this behavior.\n",
      "  _warn_prf(average, modifier, msg_start, len(result))\n",
      "C:\\Users\\nicho\\anaconda3\\lib\\site-packages\\sklearn\\metrics\\_classification.py:1318: UndefinedMetricWarning: Precision and F-score are ill-defined and being set to 0.0 in labels with no predicted samples. Use `zero_division` parameter to control this behavior.\n",
      "  _warn_prf(average, modifier, msg_start, len(result))\n",
      "C:\\Users\\nicho\\anaconda3\\lib\\site-packages\\sklearn\\metrics\\_classification.py:1318: UndefinedMetricWarning: Precision and F-score are ill-defined and being set to 0.0 in labels with no predicted samples. Use `zero_division` parameter to control this behavior.\n",
      "  _warn_prf(average, modifier, msg_start, len(result))\n"
     ]
    },
    {
     "data": {
      "image/png": "[encoded data removed]",
      "text/plain": [
       "<Figure size 288x288 with 2 Axes>"
      ]
     },
     "metadata": {
      "needs_background": "light"
     },
     "output_type": "display_data"
    },
    {
     "name": "stdout",
     "output_type": "stream",
     "text": [
      "\n",
      " iteration: 3\n",
      "training data length: 98\n",
      "verification data length: 33\n",
      "Accuracy: 0.88\n",
      "Adaboost Prediction report \n",
      "               precision    recall  f1-score   support\n",
      "\n",
      "  Condition3       0.71      1.00      0.83        10\n",
      "  Condition4       1.00      1.00      1.00        11\n",
      "     Normal1       1.00      0.67      0.80        12\n",
      "\n",
      "    accuracy                           0.88        33\n",
      "   macro avg       0.90      0.89      0.88        33\n",
      "weighted avg       0.91      0.88      0.88        33\n",
      "\n"
     ]
    },
    {
     "data": {
      "image/png": "[encoded data removed]",
      "text/plain": [
       "<Figure size 288x288 with 2 Axes>"
      ]
     },
     "metadata": {
      "needs_background": "light"
     },
     "output_type": "display_data"
    },
    {
     "name": "stdout",
     "output_type": "stream",
     "text": [
      "\n",
      " iteration: 4\n",
      "training data length: 99\n",
      "verification data length: 32\n",
      "Accuracy: 0.94\n",
      "Adaboost Prediction report \n",
      "               precision    recall  f1-score   support\n",
      "\n",
      "  Condition3       1.00      0.90      0.95        10\n",
      "  Condition4       0.91      1.00      0.95        10\n",
      "     Normal1       0.92      0.92      0.92        12\n",
      "\n",
      "    accuracy                           0.94        32\n",
      "   macro avg       0.94      0.94      0.94        32\n",
      "weighted avg       0.94      0.94      0.94        32\n",
      "\n"
     ]
    },
    {
     "data": {
      "image/png": "[encoded data removed]",
      "text/plain": [
       "<Figure size 288x288 with 2 Axes>"
      ]
     },
     "metadata": {
      "needs_background": "light"
     },
     "output_type": "display_data"
    }
   ],
   "source": [
    "#oringinal default adaboost\n",
    "adaboost = AdaBoostClassifier(n_estimators =100, learning_rate=1.0, random_state=0)\n",
    "\n",
    "#split data into 3/4 for training and 1/4] for testing\n",
    "cv = sk(n_splits=4, shuffle=True, random_state=0)\n",
    "# accuracy list\n",
    "accuracy_l = []\n",
    "# result list\n",
    "result_matrix =[]\n",
    "i=1\n",
    "for tr_i, te_i in cv.split(X, Y):\n",
    "    X_tr = X.iloc[tr_i]\n",
    "    X_v = X.iloc[te_i]\n",
    "    y_tr = Y.iloc[tr_i]\n",
    "    y_v = Y.iloc[te_i]\n",
    "    #print(X_v)\n",
    "    #print(X_tr)\n",
    "    print(\"\\n iteration:\", i)\n",
    "    print(\"training data length:\", len(y_tr))\n",
    "    print(\"verification data length:\", len(y_v))\n",
    "    i= i+1\n",
    "    # Fitting Random Forest Classification to the Training set\n",
    "    model = adaboost.fit(X_tr, y_tr.values.ravel())\n",
    "    y_p = model.predict(X_v)\n",
    "    \n",
    "    #calculate accuracy\n",
    "   \n",
    "    accuracy = np.mean(acs(y_v, y_p))\n",
    "    print(\"Accuracy:\", accuracy.round(2))\n",
    "    accuracy_l.append(accuracy)\n",
    "    \n",
    "     ##  Confusion matrix and classification report\n",
    " \n",
    "    print(\"Adaboost Prediction report\", \"\\n\", classification_report(y_v,y_p))\n",
    "    ### use confusion matrix to compare y_v and y_p, plot and save confusion matrix\n",
    "    #use heatmap\n",
    "    fig, ax = plt.subplots(figsize=(4,4))\n",
    "    ax = sns.heatmap(CM, annot=True, fmt='d', cmap='Blues', xticklabels = YClass , yticklabels = YClass)\n",
    "    plt.tight_layout()\n",
    "    plt.show(ax)\n",
    "    \n",
    "    #reset the label to original and save the original test data +prediction into a .csv file \n",
    "    X_v.reset_index(drop=True, inplace=True)\n",
    "    y_v.reset_index(drop=True,inplace=True)\n",
    "    #print(X_v)\n",
    "    #print(y_v)\n",
    "    #print(y_p)\n",
    "    result_matrix = pd.concat([X_v, y_v], axis=1,ignore_index=True)\n",
    "    result_matrix.loc[:,5] = y_p \n",
    "    #print(\"Result matrix\")\n",
    "    #print(result_matrix)\n",
    "    "
   ]
  },
  {
   "cell_type": "code",
   "execution_count": 21,
   "id": "ce15518b",
   "metadata": {},
   "outputs": [
    {
     "name": "stdout",
     "output_type": "stream",
     "text": [
      "\n",
      " iteration: 1\n",
      "training data length: 98\n",
      "verification data length: 33\n",
      "Accuracy: 0.98\n",
      "Adaboost Prediction report \n",
      "               precision    recall  f1-score   support\n",
      "\n",
      "  Condition3       0.97      1.00      0.98        30\n",
      "  Condition4       0.97      1.00      0.98        31\n",
      "     Normal1       1.00      0.95      0.97        37\n",
      "\n",
      "    accuracy                           0.98        98\n",
      "   macro avg       0.98      0.98      0.98        98\n",
      "weighted avg       0.98      0.98      0.98        98\n",
      "\n"
     ]
    },
    {
     "data": {
      "image/png": "[encoded data removed]",
      "text/plain": [
       "<Figure size 288x288 with 2 Axes>"
      ]
     },
     "metadata": {
      "needs_background": "light"
     },
     "output_type": "display_data"
    },
    {
     "name": "stdout",
     "output_type": "stream",
     "text": [
      "\n",
      " iteration: 2\n",
      "training data length: 98\n",
      "verification data length: 33\n",
      "Accuracy: 0.69\n",
      "Adaboost Prediction report \n",
      "               precision    recall  f1-score   support\n",
      "\n",
      "  Condition3       0.00      0.00      0.00        30\n",
      "  Condition4       1.00      1.00      1.00        31\n",
      "     Normal1       0.55      1.00      0.71        37\n",
      "\n",
      "    accuracy                           0.69        98\n",
      "   macro avg       0.52      0.67      0.57        98\n",
      "weighted avg       0.52      0.69      0.58        98\n",
      "\n"
     ]
    },
    {
     "name": "stderr",
     "output_type": "stream",
     "text": [
      "C:\\Users\\nicho\\anaconda3\\lib\\site-packages\\sklearn\\metrics\\_classification.py:1318: UndefinedMetricWarning: Precision and F-score are ill-defined and being set to 0.0 in labels with no predicted samples. Use `zero_division` parameter to control this behavior.\n",
      "  _warn_prf(average, modifier, msg_start, len(result))\n",
      "C:\\Users\\nicho\\anaconda3\\lib\\site-packages\\sklearn\\metrics\\_classification.py:1318: UndefinedMetricWarning: Precision and F-score are ill-defined and being set to 0.0 in labels with no predicted samples. Use `zero_division` parameter to control this behavior.\n",
      "  _warn_prf(average, modifier, msg_start, len(result))\n",
      "C:\\Users\\nicho\\anaconda3\\lib\\site-packages\\sklearn\\metrics\\_classification.py:1318: UndefinedMetricWarning: Precision and F-score are ill-defined and being set to 0.0 in labels with no predicted samples. Use `zero_division` parameter to control this behavior.\n",
      "  _warn_prf(average, modifier, msg_start, len(result))\n"
     ]
    },
    {
     "data": {
      "image/png": "[encoded data removed]",
      "text/plain": [
       "<Figure size 288x288 with 2 Axes>"
      ]
     },
     "metadata": {
      "needs_background": "light"
     },
     "output_type": "display_data"
    },
    {
     "name": "stdout",
     "output_type": "stream",
     "text": [
      "\n",
      " iteration: 3\n",
      "training data length: 98\n",
      "verification data length: 33\n",
      "Accuracy: 0.95\n",
      "Adaboost Prediction report \n",
      "               precision    recall  f1-score   support\n",
      "\n",
      "  Condition3       0.86      1.00      0.92        30\n",
      "  Condition4       1.00      1.00      1.00        30\n",
      "     Normal1       1.00      0.87      0.93        38\n",
      "\n",
      "    accuracy                           0.95        98\n",
      "   macro avg       0.95      0.96      0.95        98\n",
      "weighted avg       0.96      0.95      0.95        98\n",
      "\n"
     ]
    },
    {
     "data": {
      "image/png": "[encoded data removed]",
      "text/plain": [
       "<Figure size 288x288 with 2 Axes>"
      ]
     },
     "metadata": {
      "needs_background": "light"
     },
     "output_type": "display_data"
    },
    {
     "name": "stdout",
     "output_type": "stream",
     "text": [
      "\n",
      " iteration: 4\n",
      "training data length: 99\n",
      "verification data length: 32\n",
      "Accuracy: 1.0\n",
      "Adaboost Prediction report \n",
      "               precision    recall  f1-score   support\n",
      "\n",
      "  Condition3       1.00      1.00      1.00        30\n",
      "  Condition4       1.00      1.00      1.00        31\n",
      "     Normal1       1.00      1.00      1.00        38\n",
      "\n",
      "    accuracy                           1.00        99\n",
      "   macro avg       1.00      1.00      1.00        99\n",
      "weighted avg       1.00      1.00      1.00        99\n",
      "\n"
     ]
    },
    {
     "data": {
      "image/png": "[encoded data removed]",
      "text/plain": [
       "<Figure size 288x288 with 2 Axes>"
      ]
     },
     "metadata": {
      "needs_background": "light"
     },
     "output_type": "display_data"
    }
   ],
   "source": [
    "#oringinal default adaboost training data to compare overfit\n",
    "adaboost = AdaBoostClassifier(n_estimators =100, learning_rate=1.0, random_state=0)\n",
    "\n",
    "#split data into 3/4 for training and 1/4] for testing\n",
    "cv = sk(n_splits=4, shuffle=True, random_state=0)\n",
    "# accuracy list\n",
    "accuracy_l = []\n",
    "# result list\n",
    "result_matrix =[]\n",
    "i=1\n",
    "for tr_i, te_i in cv.split(X, Y):\n",
    "    X_tr = X.iloc[tr_i]\n",
    "    X_v = X.iloc[te_i]\n",
    "    y_tr = Y.iloc[tr_i]\n",
    "    y_v = Y.iloc[te_i]\n",
    "    #print(X_v)\n",
    "    #print(X_tr)\n",
    "    print(\"\\n iteration:\", i)\n",
    "    print(\"training data length:\", len(y_tr))\n",
    "    print(\"verification data length:\", len(y_v))\n",
    "    i= i+1\n",
    "    # Fitting Random Forest Classification to the Training set\n",
    "    model = adaboost.fit(X_tr, y_tr.values.ravel())\n",
    "    y_p = model.predict(X_tr)\n",
    "    \n",
    "    #calculate accuracy\n",
    "   \n",
    "    accuracy = np.mean(acs(y_tr, y_p))\n",
    "    print(\"Accuracy:\", accuracy.round(2))\n",
    "    accuracy_l.append(accuracy)\n",
    "    \n",
    "     ##  Confusion matrix and classification report\n",
    " \n",
    "    print(\"Adaboost Prediction report\", \"\\n\", classification_report(y_tr,y_p))\n",
    "    ### use confusion matrix to compare y_v and y_p, plot and save confusion matrix\n",
    "    #use heatmap\n",
    "    fig, ax = plt.subplots(figsize=(4,4))\n",
    "    ax = sns.heatmap(CM, annot=True, fmt='d', cmap='Blues', xticklabels = YClass , yticklabels = YClass)\n",
    "    plt.tight_layout()\n",
    "    plt.show(ax)\n",
    "    \n",
    "    #reset the label to original and save the original test data +prediction into a .csv file \n",
    "    X_v.reset_index(drop=True, inplace=True)\n",
    "    y_v.reset_index(drop=True,inplace=True)\n",
    "    #print(X_v)\n",
    "    #print(y_v)\n",
    "    #print(y_p)\n",
    "    result_matrix = pd.concat([X_tr, y_tr], axis=1,ignore_index=True)\n",
    "    result_matrix.loc[:,5] = y_p \n",
    "    #print(\"Result matrix\")\n",
    "    #print(result_matrix)"
   ]
  },
  {
   "cell_type": "code",
   "execution_count": 22,
   "id": "b8ad2ba4",
   "metadata": {},
   "outputs": [
    {
     "name": "stdout",
     "output_type": "stream",
     "text": [
      "Best: 0.916193 using {'learning_rate': 0.1, 'n_estimators': 50}\n",
      "0.671638 (0.015231) with: {'learning_rate': 0.0001, 'n_estimators': 10}\n",
      "0.671638 (0.015231) with: {'learning_rate': 0.0001, 'n_estimators': 50}\n",
      "0.671638 (0.015231) with: {'learning_rate': 0.0001, 'n_estimators': 100}\n",
      "0.802320 (0.121543) with: {'learning_rate': 0.0001, 'n_estimators': 500}\n",
      "0.671638 (0.015231) with: {'learning_rate': 0.001, 'n_estimators': 10}\n",
      "0.802320 (0.121543) with: {'learning_rate': 0.001, 'n_estimators': 50}\n",
      "0.802320 (0.121543) with: {'learning_rate': 0.001, 'n_estimators': 100}\n",
      "0.817472 (0.076427) with: {'learning_rate': 0.001, 'n_estimators': 500}\n",
      "0.802320 (0.121543) with: {'learning_rate': 0.01, 'n_estimators': 10}\n",
      "0.817472 (0.076427) with: {'learning_rate': 0.01, 'n_estimators': 50}\n",
      "0.802320 (0.088802) with: {'learning_rate': 0.01, 'n_estimators': 100}\n",
      "0.893466 (0.081333) with: {'learning_rate': 0.01, 'n_estimators': 500}\n",
      "0.893466 (0.078460) with: {'learning_rate': 0.1, 'n_estimators': 10}\n",
      "0.916193 (0.058011) with: {'learning_rate': 0.1, 'n_estimators': 50}\n",
      "0.908617 (0.070869) with: {'learning_rate': 0.1, 'n_estimators': 100}\n",
      "0.893466 (0.081333) with: {'learning_rate': 0.1, 'n_estimators': 500}\n",
      "0.825284 (0.100828) with: {'learning_rate': 1.0, 'n_estimators': 10}\n",
      "0.825284 (0.100828) with: {'learning_rate': 1.0, 'n_estimators': 50}\n",
      "0.840436 (0.103149) with: {'learning_rate': 1.0, 'n_estimators': 100}\n",
      "0.840436 (0.103149) with: {'learning_rate': 1.0, 'n_estimators': 500}\n"
     ]
    },
    {
     "name": "stderr",
     "output_type": "stream",
     "text": [
      "C:\\Users\\nicho\\anaconda3\\lib\\site-packages\\sklearn\\utils\\validation.py:993: DataConversionWarning: A column-vector y was passed when a 1d array was expected. Please change the shape of y to (n_samples, ), for example using ravel().\n",
      "  y = column_or_1d(y, warn=True)\n"
     ]
    }
   ],
   "source": [
    "#adaboost optimisation via girdsearch\n",
    "import numpy as np\n",
    "import pandas as pd\n",
    "\n",
    "# example of grid searching key hyperparameters for adaboost on a classification dataset\n",
    "from sklearn.datasets import make_classification\n",
    "from sklearn.model_selection import RepeatedStratifiedKFold\n",
    "from sklearn.model_selection import GridSearchCV\n",
    "from sklearn.ensemble import AdaBoostClassifier as ADA\n",
    "\n",
    "# import training data and define dataset\n",
    "\n",
    "# define the model with default hyperparameters\n",
    "model = ADA()\n",
    "\n",
    "# define the grid of values to search\n",
    "grid = dict()\n",
    "grid['n_estimators'] = [10, 50, 100, 500]\n",
    "grid['learning_rate'] = [0.0001, 0.001, 0.01, 0.1, 1.0]\n",
    "\n",
    "# define the evaluation procedure\n",
    "#cv = RepeatedStratifiedKFold(n_splits=4, n_repeats=3, random_state=1)\n",
    "\n",
    "# define the grid search procedure\n",
    "grid_search = GridSearchCV(estimator=model, param_grid=grid, n_jobs=-1, cv=cv, scoring='accuracy')\n",
    "\n",
    "# execute the grid search\n",
    "grid_result = grid_search.fit(X, Y)\n",
    "\n",
    "# summarize the best score and configuration\n",
    "print(\"Best: %f using %s\" % (grid_result.best_score_, grid_result.best_params_))\n",
    "\n",
    "# summarize all scores that were evaluated\n",
    "means = grid_result.cv_results_['mean_test_score']\n",
    "stds = grid_result.cv_results_['std_test_score']\n",
    "params = grid_result.cv_results_['params']\n",
    "for mean, stdev, param in zip(means, stds, params):\n",
    "    print(\"%f (%f) with: %r\" % (mean, stdev, param))"
   ]
  },
  {
   "cell_type": "code",
   "execution_count": 23,
   "id": "89a1e6b0",
   "metadata": {},
   "outputs": [],
   "source": [
    "from sklearn.ensemble import AdaBoostClassifier as ADA"
   ]
  },
  {
   "cell_type": "code",
   "execution_count": 25,
   "id": "8f6785e0",
   "metadata": {},
   "outputs": [
    {
     "name": "stdout",
     "output_type": "stream",
     "text": [
      "\n",
      " iteration: 1\n",
      "training data length: 98\n",
      "verification data length: 33\n",
      "Accuracy: 0.82\n",
      "Adaboost Prediction report \n",
      "               precision    recall  f1-score   support\n",
      "\n",
      "  Condition3       1.00      0.40      0.57        10\n",
      "  Condition4       1.00      1.00      1.00        10\n",
      "     Normal1       0.68      1.00      0.81        13\n",
      "\n",
      "    accuracy                           0.82        33\n",
      "   macro avg       0.89      0.80      0.79        33\n",
      "weighted avg       0.88      0.82      0.80        33\n",
      "\n"
     ]
    },
    {
     "name": "stderr",
     "output_type": "stream",
     "text": [
      "C:\\Users\\nicho\\anaconda3\\lib\\site-packages\\sklearn\\utils\\validation.py:993: DataConversionWarning: A column-vector y was passed when a 1d array was expected. Please change the shape of y to (n_samples, ), for example using ravel().\n",
      "  y = column_or_1d(y, warn=True)\n"
     ]
    },
    {
     "data": {
      "image/png": "[encoded data removed]",
      "text/plain": [
       "<Figure size 288x288 with 2 Axes>"
      ]
     },
     "metadata": {
      "needs_background": "light"
     },
     "output_type": "display_data"
    },
    {
     "name": "stdout",
     "output_type": "stream",
     "text": [
      "\n",
      " iteration: 2\n",
      "training data length: 98\n",
      "verification data length: 33\n",
      "Accuracy: 0.94\n",
      "Adaboost Prediction report \n",
      "               precision    recall  f1-score   support\n",
      "\n",
      "  Condition3       1.00      0.80      0.89        10\n",
      "  Condition4       1.00      1.00      1.00        10\n",
      "     Normal1       0.87      1.00      0.93        13\n",
      "\n",
      "    accuracy                           0.94        33\n",
      "   macro avg       0.96      0.93      0.94        33\n",
      "weighted avg       0.95      0.94      0.94        33\n",
      "\n"
     ]
    },
    {
     "name": "stderr",
     "output_type": "stream",
     "text": [
      "C:\\Users\\nicho\\anaconda3\\lib\\site-packages\\sklearn\\utils\\validation.py:993: DataConversionWarning: A column-vector y was passed when a 1d array was expected. Please change the shape of y to (n_samples, ), for example using ravel().\n",
      "  y = column_or_1d(y, warn=True)\n"
     ]
    },
    {
     "data": {
      "image/png": "[encoded data removed]",
      "text/plain": [
       "<Figure size 288x288 with 2 Axes>"
      ]
     },
     "metadata": {
      "needs_background": "light"
     },
     "output_type": "display_data"
    },
    {
     "name": "stdout",
     "output_type": "stream",
     "text": [
      "\n",
      " iteration: 3\n",
      "training data length: 98\n",
      "verification data length: 33\n",
      "Accuracy: 0.97\n",
      "Adaboost Prediction report \n",
      "               precision    recall  f1-score   support\n",
      "\n",
      "  Condition3       1.00      0.90      0.95        10\n",
      "  Condition4       1.00      1.00      1.00        11\n",
      "     Normal1       0.92      1.00      0.96        12\n",
      "\n",
      "    accuracy                           0.97        33\n",
      "   macro avg       0.97      0.97      0.97        33\n",
      "weighted avg       0.97      0.97      0.97        33\n",
      "\n"
     ]
    },
    {
     "name": "stderr",
     "output_type": "stream",
     "text": [
      "C:\\Users\\nicho\\anaconda3\\lib\\site-packages\\sklearn\\utils\\validation.py:993: DataConversionWarning: A column-vector y was passed when a 1d array was expected. Please change the shape of y to (n_samples, ), for example using ravel().\n",
      "  y = column_or_1d(y, warn=True)\n"
     ]
    },
    {
     "data": {
      "image/png": "[encoded data removed]",
      "text/plain": [
       "<Figure size 288x288 with 2 Axes>"
      ]
     },
     "metadata": {
      "needs_background": "light"
     },
     "output_type": "display_data"
    },
    {
     "name": "stdout",
     "output_type": "stream",
     "text": [
      "\n",
      " iteration: 4\n",
      "training data length: 99\n",
      "verification data length: 32\n",
      "Accuracy: 0.94\n",
      "Adaboost Prediction report \n",
      "               precision    recall  f1-score   support\n",
      "\n",
      "  Condition3       1.00      0.90      0.95        10\n",
      "  Condition4       0.91      1.00      0.95        10\n",
      "     Normal1       0.92      0.92      0.92        12\n",
      "\n",
      "    accuracy                           0.94        32\n",
      "   macro avg       0.94      0.94      0.94        32\n",
      "weighted avg       0.94      0.94      0.94        32\n",
      "\n"
     ]
    },
    {
     "name": "stderr",
     "output_type": "stream",
     "text": [
      "C:\\Users\\nicho\\anaconda3\\lib\\site-packages\\sklearn\\utils\\validation.py:993: DataConversionWarning: A column-vector y was passed when a 1d array was expected. Please change the shape of y to (n_samples, ), for example using ravel().\n",
      "  y = column_or_1d(y, warn=True)\n"
     ]
    },
    {
     "data": {
      "image/png": "[encoded data removed]",
      "text/plain": [
       "<Figure size 288x288 with 2 Axes>"
      ]
     },
     "metadata": {
      "needs_background": "light"
     },
     "output_type": "display_data"
    }
   ],
   "source": [
    "#optmised adaboost\n",
    "adaboost = AdaBoostClassifier(n_estimators =50, learning_rate=0.1, random_state=0)\n",
    "\n",
    "#split data into 3/4 for training and 1/4 for testing\n",
    "cv = sk(n_splits=4, shuffle=True, random_state=0)\n",
    "# accuracy list\n",
    "accuracy_l = []\n",
    "# result list\n",
    "result_matrix =[]\n",
    "i=1\n",
    "for tr_i, te_i in cv.split(X, Y):\n",
    "    X_tr = X.iloc[tr_i]\n",
    "    X_v = X.iloc[te_i]\n",
    "    y_tr = Y.iloc[tr_i]\n",
    "    y_v = Y.iloc[te_i]\n",
    "    #print(X_v)\n",
    "    #print(X_tr)\n",
    "    print(\"\\n iteration:\", i)\n",
    "    print(\"training data length:\", len(y_tr))\n",
    "    print(\"verification data length:\", len(y_v))\n",
    "    i= i+1\n",
    "    # Fitting Random Forest Classification to the Training set\n",
    "    model = adaboost.fit(X_tr, y_tr)\n",
    "    y_p = model.predict(X_v)\n",
    "    \n",
    "    #calculate accuracy\n",
    "    accuracy = np.mean(acs(y_v, y_p))\n",
    "    print(\"Accuracy:\", accuracy.round(2))\n",
    "    accuracy_l.append(accuracy)\n",
    "    \n",
    "     ##  Confusion matrix and classification report\n",
    " \n",
    "    print(\"Adaboost Prediction report\", \"\\n\", classification_report(y_v,y_p))\n",
    "    ### use confusion matrix to compare y_v and y_p, plot and save confusion matrix\n",
    "    #use heatmap\n",
    "    fig, ax = plt.subplots(figsize=(4,4))\n",
    "    ax = sns.heatmap(CM, annot=True, fmt='d', cmap='Blues', xticklabels = YClass , yticklabels = YClass)\n",
    "    plt.tight_layout()\n",
    "    plt.show(ax)\n",
    "    \n",
    "    #reset the label to original and save the original test data +prediction into a .csv file \n",
    "    X_v.reset_index(drop=True, inplace=True)\n",
    "    y_v.reset_index(drop=True,inplace=True)\n",
    "    #print(X_v)\n",
    "    #print(y_v)\n",
    "    #print(y_p)\n",
    "    result_matrix = pd.concat([X_v, y_v], axis=1,ignore_index=True)\n",
    "    result_matrix.loc[:,5] = y_p \n",
    "    #print(\"Result matrix\")\n",
    "    #print(result_matrix)\n",
    "    "
   ]
  },
  {
   "cell_type": "code",
   "execution_count": 26,
   "id": "d45a6d08",
   "metadata": {},
   "outputs": [
    {
     "name": "stdout",
     "output_type": "stream",
     "text": [
      "\n",
      " iteration: 1\n",
      "training data length: 98\n",
      "verification data length: 33\n",
      "Accuracy: 0.82\n",
      "Adaboost Prediction report \n",
      "               precision    recall  f1-score   support\n",
      "\n",
      "  Condition3       1.00      0.40      0.57        10\n",
      "  Condition4       1.00      1.00      1.00        10\n",
      "     Normal1       0.68      1.00      0.81        13\n",
      "\n",
      "    accuracy                           0.82        33\n",
      "   macro avg       0.89      0.80      0.79        33\n",
      "weighted avg       0.88      0.82      0.80        33\n",
      "\n"
     ]
    },
    {
     "name": "stderr",
     "output_type": "stream",
     "text": [
      "C:\\Users\\nicho\\anaconda3\\lib\\site-packages\\sklearn\\utils\\validation.py:993: DataConversionWarning: A column-vector y was passed when a 1d array was expected. Please change the shape of y to (n_samples, ), for example using ravel().\n",
      "  y = column_or_1d(y, warn=True)\n"
     ]
    },
    {
     "data": {
      "image/png": "[encoded data removed]",
      "text/plain": [
       "<Figure size 288x288 with 2 Axes>"
      ]
     },
     "metadata": {
      "needs_background": "light"
     },
     "output_type": "display_data"
    },
    {
     "name": "stdout",
     "output_type": "stream",
     "text": [
      "\n",
      " iteration: 2\n",
      "training data length: 98\n",
      "verification data length: 33\n",
      "Accuracy: 0.94\n",
      "Adaboost Prediction report \n",
      "               precision    recall  f1-score   support\n",
      "\n",
      "  Condition3       1.00      0.80      0.89        10\n",
      "  Condition4       1.00      1.00      1.00        10\n",
      "     Normal1       0.87      1.00      0.93        13\n",
      "\n",
      "    accuracy                           0.94        33\n",
      "   macro avg       0.96      0.93      0.94        33\n",
      "weighted avg       0.95      0.94      0.94        33\n",
      "\n"
     ]
    },
    {
     "name": "stderr",
     "output_type": "stream",
     "text": [
      "C:\\Users\\nicho\\anaconda3\\lib\\site-packages\\sklearn\\utils\\validation.py:993: DataConversionWarning: A column-vector y was passed when a 1d array was expected. Please change the shape of y to (n_samples, ), for example using ravel().\n",
      "  y = column_or_1d(y, warn=True)\n"
     ]
    },
    {
     "data": {
      "image/png": "[encoded data removed]",
      "text/plain": [
       "<Figure size 288x288 with 2 Axes>"
      ]
     },
     "metadata": {
      "needs_background": "light"
     },
     "output_type": "display_data"
    },
    {
     "name": "stdout",
     "output_type": "stream",
     "text": [
      "\n",
      " iteration: 3\n",
      "training data length: 98\n",
      "verification data length: 33\n",
      "Accuracy: 0.97\n",
      "Adaboost Prediction report \n",
      "               precision    recall  f1-score   support\n",
      "\n",
      "  Condition3       1.00      0.90      0.95        10\n",
      "  Condition4       1.00      1.00      1.00        11\n",
      "     Normal1       0.92      1.00      0.96        12\n",
      "\n",
      "    accuracy                           0.97        33\n",
      "   macro avg       0.97      0.97      0.97        33\n",
      "weighted avg       0.97      0.97      0.97        33\n",
      "\n"
     ]
    },
    {
     "name": "stderr",
     "output_type": "stream",
     "text": [
      "C:\\Users\\nicho\\anaconda3\\lib\\site-packages\\sklearn\\utils\\validation.py:993: DataConversionWarning: A column-vector y was passed when a 1d array was expected. Please change the shape of y to (n_samples, ), for example using ravel().\n",
      "  y = column_or_1d(y, warn=True)\n"
     ]
    },
    {
     "data": {
      "image/png": "[encoded data removed]",
      "text/plain": [
       "<Figure size 288x288 with 2 Axes>"
      ]
     },
     "metadata": {
      "needs_background": "light"
     },
     "output_type": "display_data"
    },
    {
     "name": "stdout",
     "output_type": "stream",
     "text": [
      "\n",
      " iteration: 4\n",
      "training data length: 99\n",
      "verification data length: 32\n",
      "Accuracy: 0.94\n",
      "Adaboost Prediction report \n",
      "               precision    recall  f1-score   support\n",
      "\n",
      "  Condition3       1.00      0.90      0.95        10\n",
      "  Condition4       0.91      1.00      0.95        10\n",
      "     Normal1       0.92      0.92      0.92        12\n",
      "\n",
      "    accuracy                           0.94        32\n",
      "   macro avg       0.94      0.94      0.94        32\n",
      "weighted avg       0.94      0.94      0.94        32\n",
      "\n"
     ]
    },
    {
     "name": "stderr",
     "output_type": "stream",
     "text": [
      "C:\\Users\\nicho\\anaconda3\\lib\\site-packages\\sklearn\\utils\\validation.py:993: DataConversionWarning: A column-vector y was passed when a 1d array was expected. Please change the shape of y to (n_samples, ), for example using ravel().\n",
      "  y = column_or_1d(y, warn=True)\n"
     ]
    },
    {
     "data": {
      "image/png": "[encoded data removed]",
      "text/plain": [
       "<Figure size 288x288 with 2 Axes>"
      ]
     },
     "metadata": {
      "needs_background": "light"
     },
     "output_type": "display_data"
    }
   ],
   "source": [
    "#optmised adaboost, print training data\n",
    "adaboost = AdaBoostClassifier(n_estimators =50, learning_rate=0.1, random_state=0)\n",
    "\n",
    "#split data into 3/4 for training and 1/4 for testing\n",
    "cv = sk(n_splits=4, shuffle=True, random_state=0)\n",
    "# accuracy list\n",
    "accuracy_l = []\n",
    "# result list\n",
    "result_matrix =[]\n",
    "i=1\n",
    "for tr_i, te_i in cv.split(X, Y):\n",
    "    X_tr = X.iloc[tr_i]\n",
    "    X_v = X.iloc[te_i]\n",
    "    y_tr = Y.iloc[tr_i]\n",
    "    y_v = Y.iloc[te_i]\n",
    "    #print(X_v)\n",
    "    #print(X_tr)\n",
    "    print(\"\\n iteration:\", i)\n",
    "    print(\"training data length:\", len(y_tr))\n",
    "    print(\"verification data length:\", len(y_v))\n",
    "    i= i+1\n",
    "    # Fitting Random Forest Classification to the Training set\n",
    "    model = adaboost.fit(X_tr, y_tr)\n",
    "    y_p = model.predict(X_v)\n",
    "    \n",
    "    #calculate accuracy\n",
    "    accuracy = np.mean(acs(y_v, y_p))\n",
    "    print(\"Accuracy:\", accuracy.round(2))\n",
    "    accuracy_l.append(accuracy)\n",
    "    \n",
    "     ##  Confusion matrix and classification report\n",
    " \n",
    "    print(\"Adaboost Prediction report\", \"\\n\", classification_report(y_v,y_p))\n",
    "    ### use confusion matrix to compare y_v and y_p, plot and save confusion matrix\n",
    "    #use heatmap\n",
    "    fig, ax = plt.subplots(figsize=(4,4))\n",
    "    ax = sns.heatmap(CM, annot=True, fmt='d', cmap='Blues', xticklabels = YClass , yticklabels = YClass)\n",
    "    plt.tight_layout()\n",
    "    plt.show(ax)\n",
    "    \n",
    "    #reset the label to original and save the original test data +prediction into a .csv file \n",
    "    X_v.reset_index(drop=True, inplace=True)\n",
    "    y_v.reset_index(drop=True,inplace=True)\n",
    "    #print(X_v)\n",
    "    #print(y_v)\n",
    "    #print(y_p)\n",
    "    result_matrix = pd.concat([X_v, y_v], axis=1,ignore_index=True)\n",
    "    result_matrix.loc[:,5] = y_p \n",
    "    #print(\"Result matrix\")\n",
    "    #print(result_matrix)"
   ]
  },
  {
   "cell_type": "code",
   "execution_count": 55,
   "id": "27daa1e0",
   "metadata": {},
   "outputs": [
    {
     "name": "stdout",
     "output_type": "stream",
     "text": [
      "\n",
      " iteration: 1\n",
      "training data length: 98\n",
      "verification data length: 33\n",
      "Accuracy: 0.95\n",
      "Adaboost Prediction report \n",
      "               precision    recall  f1-score   support\n",
      "\n",
      "  Condition3       1.00      0.83      0.91        30\n",
      "  Condition4       1.00      1.00      1.00        31\n",
      "     Normal1       0.88      1.00      0.94        37\n",
      "\n",
      "    accuracy                           0.95        98\n",
      "   macro avg       0.96      0.94      0.95        98\n",
      "weighted avg       0.96      0.95      0.95        98\n",
      "\n"
     ]
    },
    {
     "data": {
      "image/png": "[encoded data removed]",
      "text/plain": [
       "<Figure size 288x288 with 2 Axes>"
      ]
     },
     "metadata": {
      "needs_background": "light"
     },
     "output_type": "display_data"
    },
    {
     "name": "stdout",
     "output_type": "stream",
     "text": [
      "\n",
      " iteration: 2\n",
      "training data length: 98\n",
      "verification data length: 33\n",
      "Accuracy: 0.9\n",
      "Adaboost Prediction report \n",
      "               precision    recall  f1-score   support\n",
      "\n",
      "  Condition3       1.00      0.67      0.80        30\n",
      "  Condition4       1.00      1.00      1.00        31\n",
      "     Normal1       0.79      1.00      0.88        37\n",
      "\n",
      "    accuracy                           0.90        98\n",
      "   macro avg       0.93      0.89      0.89        98\n",
      "weighted avg       0.92      0.90      0.89        98\n",
      "\n"
     ]
    },
    {
     "data": {
      "image/png": "[encoded data removed]",
      "text/plain": [
       "<Figure size 288x288 with 2 Axes>"
      ]
     },
     "metadata": {
      "needs_background": "light"
     },
     "output_type": "display_data"
    },
    {
     "name": "stdout",
     "output_type": "stream",
     "text": [
      "\n",
      " iteration: 3\n",
      "training data length: 98\n",
      "verification data length: 33\n",
      "Accuracy: 0.93\n",
      "Adaboost Prediction report \n",
      "               precision    recall  f1-score   support\n",
      "\n",
      "  Condition3       1.00      0.77      0.87        30\n",
      "  Condition4       1.00      1.00      1.00        30\n",
      "     Normal1       0.84      1.00      0.92        38\n",
      "\n",
      "    accuracy                           0.93        98\n",
      "   macro avg       0.95      0.92      0.93        98\n",
      "weighted avg       0.94      0.93      0.93        98\n",
      "\n"
     ]
    },
    {
     "data": {
      "image/png": "[encoded data removed]",
      "text/plain": [
       "<Figure size 288x288 with 2 Axes>"
      ]
     },
     "metadata": {
      "needs_background": "light"
     },
     "output_type": "display_data"
    },
    {
     "name": "stdout",
     "output_type": "stream",
     "text": [
      "\n",
      " iteration: 4\n",
      "training data length: 99\n",
      "verification data length: 32\n",
      "Accuracy: 0.92\n",
      "Adaboost Prediction report \n",
      "               precision    recall  f1-score   support\n",
      "\n",
      "  Condition3       1.00      0.73      0.85        30\n",
      "  Condition4       1.00      1.00      1.00        31\n",
      "     Normal1       0.83      1.00      0.90        38\n",
      "\n",
      "    accuracy                           0.92        99\n",
      "   macro avg       0.94      0.91      0.92        99\n",
      "weighted avg       0.93      0.92      0.92        99\n",
      "\n"
     ]
    },
    {
     "data": {
      "image/png": "[encoded data removed]",
      "text/plain": [
       "<Figure size 288x288 with 2 Axes>"
      ]
     },
     "metadata": {
      "needs_background": "light"
     },
     "output_type": "display_data"
    }
   ],
   "source": [
    "#optimised adaboost training data\n",
    "adaboost = AdaBoostClassifier(n_estimators =50, learning_rate=0.1, random_state=0)\n",
    "\n",
    "#split data into 3/4 for training and 1/4] for testing\n",
    "cv = sk(n_splits=4, shuffle=True, random_state=0)\n",
    "# accuracy list\n",
    "accuracy_l = []\n",
    "# result list\n",
    "result_matrix =[]\n",
    "i=1\n",
    "for tr_i, te_i in cv.split(X, Y):\n",
    "    X_tr = X.iloc[tr_i]\n",
    "    X_v = X.iloc[te_i]\n",
    "    y_tr = Y.iloc[tr_i]\n",
    "    y_v = Y.iloc[te_i]\n",
    "    #print(X_v)\n",
    "    #print(X_tr)\n",
    "    print(\"\\n iteration:\", i)\n",
    "    print(\"training data length:\", len(y_tr))\n",
    "    print(\"verification data length:\", len(y_v))\n",
    "    i= i+1\n",
    "    # Fitting Random Forest Classification to the Training set\n",
    "    model = adaboost.fit(X_tr, y_tr.values.ravel())\n",
    "    y_p = model.predict(X_tr)\n",
    "    \n",
    "    #calculate accuracy\n",
    "   \n",
    "    accuracy = np.mean(acs(y_tr, y_p))\n",
    "    print(\"Accuracy:\", accuracy.round(2))\n",
    "    accuracy_l.append(accuracy)\n",
    "    \n",
    "     ##  Confusion matrix and classification report\n",
    " \n",
    "    print(\"Adaboost Prediction report\", \"\\n\", classification_report(y_tr,y_p))\n",
    "    ### use confusion matrix to compare y_v and y_p, plot and save confusion matrix\n",
    "    #use heatmap\n",
    "    fig, ax = plt.subplots(figsize=(4,4))\n",
    "    ax = sns.heatmap(CM, annot=True, fmt='d', cmap='Blues', xticklabels = YClass , yticklabels = YClass)\n",
    "    plt.tight_layout()\n",
    "    plt.show(ax)\n",
    "    \n",
    "    #reset the label to original and save the original test data +prediction into a .csv file \n",
    "    X_v.reset_index(drop=True, inplace=True)\n",
    "    y_v.reset_index(drop=True,inplace=True)\n",
    "    #print(X_v)\n",
    "    #print(y_v)\n",
    "    #print(y_p)\n",
    "    result_matrix = pd.concat([X_tr, y_tr], axis=1,ignore_index=True)\n",
    "    result_matrix.loc[:,5] = y_p \n",
    "    #print(\"Result matrix\")\n",
    "    #print(result_matrix)"
   ]
  },
  {
   "cell_type": "code",
   "execution_count": null,
   "id": "58ff75b5",
   "metadata": {},
   "outputs": [],
   "source": []
  },
  {
   "cell_type": "code",
   "execution_count": null,
   "id": "ff519a20",
   "metadata": {},
   "outputs": [],
   "source": []
  }
 ],
 "metadata": {
  "kernelspec": {
   "display_name": "Python 3 (ipykernel)",
   "language": "python",
   "name": "python3"
  },
  "language_info": {
   "codemirror_mode": {
    "name": "ipython",
    "version": 3
   },
   "file_extension": ".py",
   "mimetype": "text/x-python",
   "name": "python",
   "nbconvert_exporter": "python",
   "pygments_lexer": "ipython3",
   "version": "3.9.12"
  }
 },
 "nbformat": 4,
 "nbformat_minor": 5
}
